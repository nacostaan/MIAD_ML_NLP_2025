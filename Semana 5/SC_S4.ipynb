{
 "cells": [
  {
   "cell_type": "code",
   "execution_count": 1,
   "id": "d2bd4b39-b732-46f1-bf33-d68ab7418238",
   "metadata": {},
   "outputs": [
    {
     "data": {
      "text/plain": [
       "'Este lunes, de cara a una semana clave para la reforma a la salud en el Congreso de la República, David Racero, presidente de la Cámara de Representantes, habló sobre las expectativas de la bancada de Gobierno en torno a la iniciativa. De acuerdo con el congresista, esta lograría aprobarse en primer debate entre el miércoles y el jueves. “Se ha venido tejiendo de manera muy cuidadosa el acuerdo final respecto al proyecto de salud definitivo. Esperamos que esta semana se apruebe la ponencia positiva y el articulado. Es decir, en dos semanas estaríamos aprobando la reforma a la salud en la plenaria de la Cámara”, manifestó el presidente de esa corporación. La idea, según Racero, es lograr los acuerdos con los partidos para la aprobación de la reforma en la Comisión Séptima de la Cámara de Representantes. De esta forma, se facilitará la aprobación en los próximos debates. “Así que estamos en el momento de mayor tensión, de mayor diálogo en los puntos más neurálgicos, pero seguimos con el optimismo. Se van a reunir las bancadas de los partidos entre hoy y mañana. Esperamos que entre el miércoles y el jueves se tenga la votación positiva”, agregó Racero. Con respecto al Plan Nacional de Desarrollo, que muchos critican por la demora en el trámite, el presidente de la Cámara de Representantes asegura que hay tiempo para su aprobación. “Sí o sí tiene que aprobarse la próxima semana. He hablado con el presidente del Senado, Roy Barreras. La idea es que el próximo martes, 2 de mayo, se tengan simultáneamente las plenarias, tanto en Senado y en Cámara, de la votación del Plan Nacional de Desarrollo. Si se nos extiende hasta el 3 de mayo en las diferentes plenarias, por tarde el 5 de mayo se tiene que votar conciliación”, indicó el representante del Pacto Histórico. Racero recordó que un Plan Nacional de Desarrollo nunca se ha pasado por decreto. “No creo que este Congreso permita eso, la discusión ha sido amplia y bien profunda. La próxima semana lo votaremos”. A partir de un comunicado compartido el pasado 23 de abril, el Ministerio de Salud reveló detalles sobre la enmienda que construyeron los ponentes de la reforma a la salud en la Comisión Séptima de la Cámara de Representantes. El texto busca salvar al proyecto de ley, que ha recibido múltiples críticas. Según el Ministerio de Salud esta serie de ajustes “se centra en resolver las barreras que padecen millones de pacientes”. “De la ponencia radicada, inicialmente de 156 artículos, alrededor 60 fueron modificados, es decir, aproximadamente un 40 % del proyecto original. La enmienda que se apresta a discutir la Comisión Séptima de la Cámara tiene 139 artículos, de los cuales 40 son nuevos”, sostuvo el Ministerio de Salud en su comunicado. Se espera que el presidente de la Comisión Séptima de la Cámara, Agmeth Escaf, cite a los representantes el próximo martes 25 de abril para debatir la reforma a la salud y los ajustes que se le han hecho. Entre otros detalles que incluiría el nuevo texto, el Ministerio de Salud señaló que habrá “medidas que van desde la atención rápida a pacientes con enfermedades crónicas, hasta mecanismos para el control de precios de los medicamentos”. Señaló que la Superintendencia Nacional de Salud tendría facultades de carácter jurisdiccional y podría “conocer, tramitar y fallar con carácter definitivo, con las facultades propias de un juez”. Estas funciones las podrá ejercer una vez encuentre que hay fallas que comprometen directamente la vida de los pacientes. La enmienda, además, “crea el concepto de servicios sociales complementarios para que los pacientes en condición de pobreza puedan tener acceso a servicios de salud en sitios diferentes de donde residen y su condición socioeconómica les impide proporcionárselos por sí mismos”. Por ello, los pacientes podrán tener acceso a servicios denominados “sociales y complementarios”, entre los cuales estarían “el transporte, hospedaje, acompañantes y cuidados crónicos de enfermería en casa”. Se trata de una propuesta que promete dar de qué hablar, más aún porque le daría potestad al Gobierno nacional para determinar cómo se llevarán a cabo estos servicios sociales, cómo se financiarán y a qué poblaciones del país cubrirían. El texto también tocará otro aspecto clave para el sistema de salud colombiano, pues plantea que habrá una nueva política de medicamentos y producción de vacunas. “Con el objetivo de facilitar el acceso a medicamentos, en condiciones de precios justos para el sistema y para los usuarios, la reforma a la salud plantea cambios en la política farmacéutica. De acuerdo con el texto de la enmienda, el Gobierno nacional formulará cada cuatro años la Política Farmacéutica Nacional de insumos y tecnologías en salud”, sostuvo el Ministerio de Salud. Desde ya, adelantaron que habrá mecanismos de compra conjunta de medicamentos esenciales, acciones de transferencia tecnológica y un respaldo a la producción farmacéutica nacional que se enfoque en moléculas no protegidas con patentes. Y se conoció que planteará unas acciones de seguimiento para revisar los impactos de esta política pública año tras año. “En un nuevo artículo, incluido en la enmienda, se eliminan trámites innecesarios ante el Invima, en casos de licencias y permisos sanitarios, a fin de agilizar su expedición, renovación o modificación”, aseveró la cartera ministerial de Salud.'"
      ]
     },
     "execution_count": 1,
     "metadata": {},
     "output_type": "execute_result"
    }
   ],
   "source": [
    "from sklearn.feature_extraction.text import TfidfVectorizer, CountVectorizer\n",
    "import numpy as np\n",
    "import pandas as pd\n",
    "import nltk\n",
    "\n",
    "df = pd.read_csv(\"noticias_sample.csv\").dropna()\n",
    "df.iloc[3, 0]"
   ]
  },
  {
   "cell_type": "code",
   "execution_count": 2,
   "id": "942250e3-1815-4970-b530-0e8d3300e0f2",
   "metadata": {},
   "outputs": [
    {
     "data": {
      "text/html": [
       "<div>\n",
       "<style scoped>\n",
       "    .dataframe tbody tr th:only-of-type {\n",
       "        vertical-align: middle;\n",
       "    }\n",
       "\n",
       "    .dataframe tbody tr th {\n",
       "        vertical-align: top;\n",
       "    }\n",
       "\n",
       "    .dataframe thead th {\n",
       "        text-align: right;\n",
       "    }\n",
       "</style>\n",
       "<table border=\"1\" class=\"dataframe\">\n",
       "  <thead>\n",
       "    <tr style=\"text-align: right;\">\n",
       "      <th></th>\n",
       "      <th>content</th>\n",
       "      <th>date</th>\n",
       "      <th>headline</th>\n",
       "      <th>description</th>\n",
       "    </tr>\n",
       "  </thead>\n",
       "  <tbody>\n",
       "    <tr>\n",
       "      <th>0</th>\n",
       "      <td>Esta semana, el Senado y la Cámara de Represen...</td>\n",
       "      <td>2022-11-10T18:42:14.884Z</td>\n",
       "      <td>“Con algunas excepciones, un abusivo es un pas...</td>\n",
       "      <td>El senador del Pacto Histórico se refirió al c...</td>\n",
       "    </tr>\n",
       "    <tr>\n",
       "      <th>1</th>\n",
       "      <td>Hace pocas horas, el expresidente interino de ...</td>\n",
       "      <td>2023-04-24T13:58:31.866Z</td>\n",
       "      <td>Gustavo Bolívar se pronunció sobre visita a Co...</td>\n",
       "      <td>El expresidente interino de Venezuela llegará ...</td>\n",
       "    </tr>\n",
       "    <tr>\n",
       "      <th>2</th>\n",
       "      <td>En medio de la preocupación que han elevado va...</td>\n",
       "      <td>2023-03-24T14:53:30.902Z</td>\n",
       "      <td>“Recibimos el país inundado en coca”: fuerte s...</td>\n",
       "      <td>El funcionario diplomático del Gobierno del pr...</td>\n",
       "    </tr>\n",
       "    <tr>\n",
       "      <th>3</th>\n",
       "      <td>Este lunes, de cara a una semana clave para la...</td>\n",
       "      <td>2023-04-24T20:03:25.019Z</td>\n",
       "      <td>“Esperamos que entre miércoles y jueves se ten...</td>\n",
       "      <td>El presidente de la Cámara de Representantes e...</td>\n",
       "    </tr>\n",
       "    <tr>\n",
       "      <th>4</th>\n",
       "      <td>Sin duda, el presidente Gustavo Petro, el mini...</td>\n",
       "      <td>2023-03-24T02:57:29.758Z</td>\n",
       "      <td>Tras fracaso de la reforma política, Gobierno ...</td>\n",
       "      <td>Aunque esa decisión se pudo tomar desde el sem...</td>\n",
       "    </tr>\n",
       "    <tr>\n",
       "      <th>...</th>\n",
       "      <td>...</td>\n",
       "      <td>...</td>\n",
       "      <td>...</td>\n",
       "      <td>...</td>\n",
       "    </tr>\n",
       "    <tr>\n",
       "      <th>495</th>\n",
       "      <td>Más de 50 representantes del sector emprendedo...</td>\n",
       "      <td>2022-10-19T00:18:36.429Z</td>\n",
       "      <td>“Nos toca irnos del país para seguir subsistie...</td>\n",
       "      <td>Los voceros de pequeñas y medianas empresas as...</td>\n",
       "    </tr>\n",
       "    <tr>\n",
       "      <th>496</th>\n",
       "      <td>Gilberto Tobón Sanín, excandidato al Senado de...</td>\n",
       "      <td>2022-11-30T05:02:30.124Z</td>\n",
       "      <td>“No le hago mandados a nadie, soy autónomo”: G...</td>\n",
       "      <td>El aspirante afirmó que su “compromiso es con ...</td>\n",
       "    </tr>\n",
       "    <tr>\n",
       "      <th>497</th>\n",
       "      <td>Las diferencias entre el senador de la bancada...</td>\n",
       "      <td>2022-11-30T15:18:07.075Z</td>\n",
       "      <td>Gustavo Bolívar arremete en contra del senador...</td>\n",
       "      <td>El ministro de Hacienda, presente en el debate...</td>\n",
       "    </tr>\n",
       "    <tr>\n",
       "      <th>498</th>\n",
       "      <td>En la tarde de este jueves, 24 de noviembre, e...</td>\n",
       "      <td>2022-11-25T04:26:26.611Z</td>\n",
       "      <td>El ministro del Interior, Alfonso Prada, fue d...</td>\n",
       "      <td>Con el Puerto Pisisí esperan mover 1. 630.000 ...</td>\n",
       "    </tr>\n",
       "    <tr>\n",
       "      <th>499</th>\n",
       "      <td>La vicepresidenta Francia Márquez, del Pacto H...</td>\n",
       "      <td>2022-08-26T20:30:30.314Z</td>\n",
       "      <td>“Termina una gesta jurídica”: respuesta de Fra...</td>\n",
       "      <td>Márquez habló de lo sucedido con el congresist...</td>\n",
       "    </tr>\n",
       "  </tbody>\n",
       "</table>\n",
       "<p>492 rows × 4 columns</p>\n",
       "</div>"
      ],
      "text/plain": [
       "                                               content  \\\n",
       "0    Esta semana, el Senado y la Cámara de Represen...   \n",
       "1    Hace pocas horas, el expresidente interino de ...   \n",
       "2    En medio de la preocupación que han elevado va...   \n",
       "3    Este lunes, de cara a una semana clave para la...   \n",
       "4    Sin duda, el presidente Gustavo Petro, el mini...   \n",
       "..                                                 ...   \n",
       "495  Más de 50 representantes del sector emprendedo...   \n",
       "496  Gilberto Tobón Sanín, excandidato al Senado de...   \n",
       "497  Las diferencias entre el senador de la bancada...   \n",
       "498  En la tarde de este jueves, 24 de noviembre, e...   \n",
       "499  La vicepresidenta Francia Márquez, del Pacto H...   \n",
       "\n",
       "                         date  \\\n",
       "0    2022-11-10T18:42:14.884Z   \n",
       "1    2023-04-24T13:58:31.866Z   \n",
       "2    2023-03-24T14:53:30.902Z   \n",
       "3    2023-04-24T20:03:25.019Z   \n",
       "4    2023-03-24T02:57:29.758Z   \n",
       "..                        ...   \n",
       "495  2022-10-19T00:18:36.429Z   \n",
       "496  2022-11-30T05:02:30.124Z   \n",
       "497  2022-11-30T15:18:07.075Z   \n",
       "498  2022-11-25T04:26:26.611Z   \n",
       "499  2022-08-26T20:30:30.314Z   \n",
       "\n",
       "                                              headline  \\\n",
       "0    “Con algunas excepciones, un abusivo es un pas...   \n",
       "1    Gustavo Bolívar se pronunció sobre visita a Co...   \n",
       "2    “Recibimos el país inundado en coca”: fuerte s...   \n",
       "3    “Esperamos que entre miércoles y jueves se ten...   \n",
       "4    Tras fracaso de la reforma política, Gobierno ...   \n",
       "..                                                 ...   \n",
       "495  “Nos toca irnos del país para seguir subsistie...   \n",
       "496  “No le hago mandados a nadie, soy autónomo”: G...   \n",
       "497  Gustavo Bolívar arremete en contra del senador...   \n",
       "498  El ministro del Interior, Alfonso Prada, fue d...   \n",
       "499  “Termina una gesta jurídica”: respuesta de Fra...   \n",
       "\n",
       "                                           description  \n",
       "0    El senador del Pacto Histórico se refirió al c...  \n",
       "1    El expresidente interino de Venezuela llegará ...  \n",
       "2    El funcionario diplomático del Gobierno del pr...  \n",
       "3    El presidente de la Cámara de Representantes e...  \n",
       "4    Aunque esa decisión se pudo tomar desde el sem...  \n",
       "..                                                 ...  \n",
       "495  Los voceros de pequeñas y medianas empresas as...  \n",
       "496  El aspirante afirmó que su “compromiso es con ...  \n",
       "497  El ministro de Hacienda, presente en el debate...  \n",
       "498  Con el Puerto Pisisí esperan mover 1. 630.000 ...  \n",
       "499  Márquez habló de lo sucedido con el congresist...  \n",
       "\n",
       "[492 rows x 4 columns]"
      ]
     },
     "execution_count": 2,
     "metadata": {},
     "output_type": "execute_result"
    }
   ],
   "source": [
    "df"
   ]
  },
  {
   "cell_type": "code",
   "execution_count": 3,
   "id": "dd0f63d2-2f57-41e9-b470-11e7b600b6ba",
   "metadata": {},
   "outputs": [
    {
     "name": "stdout",
     "output_type": "stream",
     "text": [
      "de: 26521\n",
      "la: 18648\n",
      "que: 16888\n",
      "el: 14592\n",
      "en: 12087\n",
      "los: 6466\n",
      "se: 6030\n",
      "del: 5917\n",
      "las: 5102\n",
      "no: 5048\n"
     ]
    }
   ],
   "source": [
    "# Initialize the CountVectorizer\n",
    "vectorizer_count = CountVectorizer(ngram_range=(1,3))\n",
    "\n",
    "# Train the CountVectorizer and transform the texts\n",
    "articles_embeddings = vectorizer_count.fit_transform(df['content']).todense()\n",
    "\n",
    "# Extract the vocabulary and the corresponding frequencies\n",
    "vocabulary = vectorizer_count.get_feature_names_out()\n",
    "frequencies = articles_embeddings.sum(axis=0).A1\n",
    "\n",
    "# Sort the tokens by frequency in descending order\n",
    "sorted_indices = frequencies.argsort()[::-1]\n",
    "\n",
    "# Display the most frequent tokens along with their frequencies\n",
    "for idx in sorted_indices[0:10]:\n",
    "    print(f\"{vocabulary[idx]}: {frequencies[idx]}\")"
   ]
  },
  {
   "cell_type": "code",
   "execution_count": 4,
   "id": "eb7b2608-e0bb-4716-9324-53e1cdf007e3",
   "metadata": {},
   "outputs": [
    {
     "data": {
      "text/plain": [
       "483100"
      ]
     },
     "execution_count": 4,
     "metadata": {},
     "output_type": "execute_result"
    }
   ],
   "source": [
    "len(vocabulary)"
   ]
  },
  {
   "cell_type": "code",
   "execution_count": 5,
   "id": "c9b0e2dd-4ebd-4be1-865a-57b348e5a45b",
   "metadata": {},
   "outputs": [
    {
     "data": {
      "text/plain": [
       "(492, 483100)"
      ]
     },
     "execution_count": 5,
     "metadata": {},
     "output_type": "execute_result"
    }
   ],
   "source": [
    "articles_embeddings.shape"
   ]
  },
  {
   "cell_type": "code",
   "execution_count": 6,
   "id": "ccfa15f5-0e94-4f97-ba7f-18d1a02b7ba2",
   "metadata": {},
   "outputs": [
    {
     "data": {
      "text/plain": [
       "2000"
      ]
     },
     "execution_count": 6,
     "metadata": {},
     "output_type": "execute_result"
    }
   ],
   "source": [
    "# Initialize the CountVectorizer\n",
    "vectorizer_count = CountVectorizer(max_features=2000, ngram_range=(1,3))\n",
    "\n",
    "# Train the CountVectorizer and transform the texts\n",
    "articles_embeddings = vectorizer_count.fit_transform(df['content']).todense()\n",
    "\n",
    "# Extract the vocabulary and the corresponding frequencies\n",
    "vocabulary = vectorizer_count.get_feature_names_out()\n",
    "\n",
    "len(vocabulary)"
   ]
  },
  {
   "cell_type": "code",
   "execution_count": 7,
   "id": "82f631bb-2e21-4f59-b3f2-8dc759574647",
   "metadata": {},
   "outputs": [
    {
     "data": {
      "text/plain": [
       "(492, 2000)"
      ]
     },
     "execution_count": 7,
     "metadata": {},
     "output_type": "execute_result"
    }
   ],
   "source": [
    "articles_embeddings.shape"
   ]
  },
  {
   "cell_type": "code",
   "execution_count": 8,
   "id": "768f5d3f-f39e-4fd0-a35f-b47c25335893",
   "metadata": {},
   "outputs": [
    {
     "data": {
      "text/plain": [
       "['de',\n",
       " 'la',\n",
       " 'que',\n",
       " 'el',\n",
       " 'en',\n",
       " 'y',\n",
       " 'a',\n",
       " 'los',\n",
       " 'del',\n",
       " 'se',\n",
       " 'las',\n",
       " 'por',\n",
       " 'un',\n",
       " 'para',\n",
       " 'con',\n",
       " 'no',\n",
       " 'una',\n",
       " 'su',\n",
       " 'al',\n",
       " 'lo']"
      ]
     },
     "execution_count": 8,
     "metadata": {},
     "output_type": "execute_result"
    }
   ],
   "source": [
    "# Download the NLTK Spanish stopwords if you haven't already\n",
    "spanish_stopwords = nltk.corpus.stopwords.words('spanish')\n",
    "\n",
    "spanish_stopwords[0:20]"
   ]
  },
  {
   "cell_type": "code",
   "execution_count": 9,
   "id": "0adbe35c-7398-489c-8f8c-4c67e129ba85",
   "metadata": {},
   "outputs": [
    {
     "data": {
      "text/plain": [
       "313"
      ]
     },
     "execution_count": 9,
     "metadata": {},
     "output_type": "execute_result"
    }
   ],
   "source": [
    "len(spanish_stopwords)"
   ]
  },
  {
   "cell_type": "code",
   "execution_count": 10,
   "id": "bb6f0970-3889-4b8f-b79e-8c0b2e4d9453",
   "metadata": {},
   "outputs": [
    {
     "name": "stdout",
     "output_type": "stream",
     "text": [
      "petro: 1786\n",
      "gobierno: 1760\n",
      "presidente: 1573\n",
      "semana: 994\n",
      "país: 936\n",
      "colombia: 904\n",
      "gustavo: 896\n",
      "si: 885\n",
      "gustavo petro: 778\n",
      "dijo: 741\n"
     ]
    }
   ],
   "source": [
    "from sklearn.feature_extraction.text import TfidfVectorizer, CountVectorizer\n",
    "import numpy as np\n",
    "import pandas as pd\n",
    "import nltk\n",
    "\n",
    "df = pd.read_csv(\"noticias_sample.csv\").dropna()\n",
    "\n",
    "# Download the NLTK Spanish stopwords if you haven't already\n",
    "spanish_stopwords = nltk.corpus.stopwords.words('spanish')\n",
    "\n",
    "# Initialize the CountVectorizer\n",
    "vectorizer_count = CountVectorizer(max_features=2000, stop_words=spanish_stopwords, ngram_range=(1,3))\n",
    "\n",
    "# Train the CountVectorizer and transform the texts\n",
    "articles_embeddings = vectorizer_count.fit_transform(df['content']).todense()\n",
    "\n",
    "# Extract the vocabulary and the corresponding frequencies\n",
    "vocabulary = vectorizer_count.get_feature_names_out()\n",
    "frequencies = articles_embeddings.sum(axis=0).A1\n",
    "\n",
    "# Sort the tokens by frequency in descending order\n",
    "sorted_indices = frequencies.argsort()[::-1]\n",
    "\n",
    "# Display the most frequent tokens along with their frequencies\n",
    "for idx in sorted_indices[0:10]:\n",
    "    print(f\"{vocabulary[idx]}: {frequencies[idx]}\")"
   ]
  },
  {
   "cell_type": "code",
   "execution_count": 11,
   "id": "1f66f1ef-93ce-4f3d-ad96-84b36c6ada16",
   "metadata": {},
   "outputs": [
    {
     "name": "stdout",
     "output_type": "stream",
     "text": [
      "gustavo petro: 778\n",
      "presidente gustavo: 397\n",
      "presidente gustavo petro: 397\n",
      "pacto histórico: 369\n",
      "presidente petro: 271\n",
      "gobierno nacional: 202\n",
      "centro democrático: 199\n",
      "reforma salud: 176\n",
      "paz total: 162\n",
      "reforma tributaria: 161\n"
     ]
    }
   ],
   "source": [
    "# Initialize the CountVectorizer\n",
    "vectorizer_count = CountVectorizer(max_features=2000, stop_words=spanish_stopwords, ngram_range=(2,3))\n",
    "\n",
    "# Train the CountVectorizer and transform the texts\n",
    "articles_embeddings = vectorizer_count.fit_transform(df['content']).todense()\n",
    "\n",
    "# Extract the vocabulary and the corresponding frequencies\n",
    "vocabulary = vectorizer_count.get_feature_names_out()\n",
    "frequencies = articles_embeddings.sum(axis=0).A1\n",
    "\n",
    "# Sort the tokens by frequency in descending order\n",
    "sorted_indices = frequencies.argsort()[::-1]\n",
    "\n",
    "# Display the most frequent tokens along with their frequencies\n",
    "for idx in sorted_indices[0:10]:\n",
    "    print(f\"{vocabulary[idx]}: {frequencies[idx]}\")"
   ]
  },
  {
   "cell_type": "code",
   "execution_count": 12,
   "id": "02ced6d6-c29b-4178-805f-db8114609d31",
   "metadata": {},
   "outputs": [
    {
     "name": "stderr",
     "output_type": "stream",
     "text": [
      "/Users/zarruk/opt/anaconda3/lib/python3.9/site-packages/sklearn/utils/deprecation.py:87: FutureWarning: Function get_feature_names is deprecated; get_feature_names is deprecated in 1.0 and will be removed in 1.2. Please use get_feature_names_out instead.\n",
      "  warnings.warn(msg, category=FutureWarning)\n"
     ]
    },
    {
     "data": {
      "text/plain": [
       "content             El excandidato presidencial Carlos Amaya se re...\n",
       "date                                         2022-10-05T18:25:44.192Z\n",
       "headline            “Con los altos impuestos al carbón, Boyacá res...\n",
       "description         El exgobernador de ese departamento alertó que...\n",
       "top_tokens_tfidf     minero, sector, carbón, tributaria, departamento\n",
       "top_tokens_count                sector, si, afirmó, van, departamento\n",
       "Name: 81, dtype: object"
      ]
     },
     "execution_count": 12,
     "metadata": {},
     "output_type": "execute_result"
    }
   ],
   "source": [
    "from sklearn.feature_extraction.text import TfidfVectorizer, CountVectorizer\n",
    "import numpy as np\n",
    "import pandas as pd\n",
    "import nltk\n",
    "\n",
    "df = pd.read_csv(\"noticias_sample.csv\").dropna()\n",
    "\n",
    "# Download the NLTK Spanish stopwords if you haven't already\n",
    "spanish_stopwords = nltk.corpus.stopwords.words('spanish')\n",
    "\n",
    "# Initialize the TfidfVectorizer\n",
    "vectorizer_tfidf = TfidfVectorizer(max_features=2000, stop_words=spanish_stopwords, ngram_range=(1,3), lowercase=True)\n",
    "\n",
    "# Train the TfidfVectorizer and transform the texts\n",
    "X_tfidf = vectorizer_tfidf.fit_transform(df['content']).todense()\n",
    "\n",
    "# Initialize the CountVectorizer\n",
    "vectorizer_count = CountVectorizer(max_features=2000, stop_words=spanish_stopwords, ngram_range=(1,3), lowercase=True)\n",
    "\n",
    "# Train the CountVectorizer and transform the texts\n",
    "X_count = vectorizer_count.fit_transform(df['content']).todense()\n",
    "\n",
    "# Get the feature names (tokens) for both vectorizers\n",
    "feature_names_tfidf = vectorizer_tfidf.get_feature_names()\n",
    "feature_names_count = vectorizer_count.get_feature_names()\n",
    "\n",
    "# For each text, find the top five features and print the tokens separated by a comma\n",
    "top_tokens_tfidf = []\n",
    "top_tokens_count = []\n",
    "for i, text in enumerate(df['content']):\n",
    "    row_tfidf = X_tfidf[i][0]\n",
    "    row_count = X_count[i][0]\n",
    "    top_five_feature_indices_tfidf = np.array(row_tfidf.argsort())[0][-5:][::-1]\n",
    "    top_five_feature_indices_count = np.array(row_count.argsort())[0][-5:][::-1]\n",
    "    top_five_feature_tokens_tfidf = \", \".join([feature_names_tfidf[idx] for idx in top_five_feature_indices_tfidf])\n",
    "    top_five_feature_tokens_count = \", \".join([feature_names_count[idx] for idx in top_five_feature_indices_count])\n",
    "    top_tokens_tfidf.append(top_five_feature_tokens_tfidf)\n",
    "    top_tokens_count.append(top_five_feature_tokens_count)\n",
    "\n",
    "# Add the top tokens to the DataFrame\n",
    "df['top_tokens_tfidf'] = top_tokens_tfidf\n",
    "df['top_tokens_count'] = top_tokens_count\n",
    "\n",
    "# Example where TFIDF works better\n",
    "df.iloc[80]"
   ]
  },
  {
   "cell_type": "code",
   "execution_count": 13,
   "id": "da377803-2e93-4b11-99e7-ee157038bf1c",
   "metadata": {},
   "outputs": [
    {
     "data": {
      "text/plain": [
       "'“Con los altos impuestos al carbón, Boyacá resultará pagando buena parte de la reforma tributaria”: Carlos Amaya'"
      ]
     },
     "execution_count": 13,
     "metadata": {},
     "output_type": "execute_result"
    }
   ],
   "source": [
    "df.iloc[80]['headline']"
   ]
  },
  {
   "cell_type": "code",
   "execution_count": 14,
   "id": "850548d4-96f8-48f8-b7f3-cc37c9574ecf",
   "metadata": {},
   "outputs": [
    {
     "data": {
      "text/plain": [
       "'sector, si, afirmó, van, departamento'"
      ]
     },
     "execution_count": 14,
     "metadata": {},
     "output_type": "execute_result"
    }
   ],
   "source": [
    "df.iloc[80]['top_tokens_count']"
   ]
  },
  {
   "cell_type": "code",
   "execution_count": 15,
   "id": "dbdbfb82-a691-4b21-b991-4a4c957ab3a4",
   "metadata": {},
   "outputs": [
    {
     "data": {
      "text/plain": [
       "'minero, sector, carbón, tributaria, departamento'"
      ]
     },
     "execution_count": 15,
     "metadata": {},
     "output_type": "execute_result"
    }
   ],
   "source": [
    "df.iloc[80]['top_tokens_tfidf']"
   ]
  },
  {
   "cell_type": "code",
   "execution_count": 16,
   "id": "75f2a20d-5ab7-40e9-b82a-65015418cd3d",
   "metadata": {},
   "outputs": [],
   "source": [
    "import pandas as pd\n",
    "\n",
    "df_educacion = pd.read_csv(\"noticias_educacion_sample.csv\")\n",
    "df_educacion['clase'] = 0\n",
    "df_politica = pd.read_csv(\"noticias_politica_sample.csv\")\n",
    "df_politica['clase'] = 1\n",
    "df_deportes = pd.read_csv(\"noticias_deportes_sample.csv\")\n",
    "df_deportes['clase'] = 2\n",
    "df_economia = pd.read_csv(\"noticias_economia_sample.csv\")\n",
    "df_economia['clase'] = 3\n",
    "df = pd.concat([df_educacion, df_politica, df_deportes, df_economia]).dropna().reset_index()"
   ]
  },
  {
   "cell_type": "code",
   "execution_count": 17,
   "id": "2d519aec-0311-4718-b138-ec35d52e1099",
   "metadata": {},
   "outputs": [
    {
     "data": {
      "text/html": [
       "<div>\n",
       "<style scoped>\n",
       "    .dataframe tbody tr th:only-of-type {\n",
       "        vertical-align: middle;\n",
       "    }\n",
       "\n",
       "    .dataframe tbody tr th {\n",
       "        vertical-align: top;\n",
       "    }\n",
       "\n",
       "    .dataframe thead th {\n",
       "        text-align: right;\n",
       "    }\n",
       "</style>\n",
       "<table border=\"1\" class=\"dataframe\">\n",
       "  <thead>\n",
       "    <tr style=\"text-align: right;\">\n",
       "      <th></th>\n",
       "      <th>index</th>\n",
       "      <th>content</th>\n",
       "      <th>date</th>\n",
       "      <th>headline</th>\n",
       "      <th>description</th>\n",
       "      <th>clase</th>\n",
       "    </tr>\n",
       "  </thead>\n",
       "  <tbody>\n",
       "    <tr>\n",
       "      <th>0</th>\n",
       "      <td>0</td>\n",
       "      <td>Como parte de la política de puertas abiertas ...</td>\n",
       "      <td>2022-02-08T19:12:01.737Z</td>\n",
       "      <td>La CAN abre convocatorias para pasantías en Co...</td>\n",
       "      <td>La Comunidad Andina de Naciones abrió la posib...</td>\n",
       "      <td>0</td>\n",
       "    </tr>\n",
       "    <tr>\n",
       "      <th>1</th>\n",
       "      <td>1</td>\n",
       "      <td>El programa, que cumple 30 años desde su prime...</td>\n",
       "      <td>2022-05-14T18:02:23.629Z</td>\n",
       "      <td>Colfuturo apoyará a 1.526 profesionales colomb...</td>\n",
       "      <td>Los beneficiarios, en su mayoría, realizaron e...</td>\n",
       "      <td>0</td>\n",
       "    </tr>\n",
       "    <tr>\n",
       "      <th>2</th>\n",
       "      <td>2</td>\n",
       "      <td>Estudiar una carrera universitaria en Colombia...</td>\n",
       "      <td>2022-10-19T09:45:01.712Z</td>\n",
       "      <td>¿Cómo estudiar becado en la mejor universidad ...</td>\n",
       "      <td>Según el ranking de Times Higher Education, la...</td>\n",
       "      <td>0</td>\n",
       "    </tr>\n",
       "    <tr>\n",
       "      <th>3</th>\n",
       "      <td>3</td>\n",
       "      <td>Escuche aquí el episodio número 27 de Finanzas...</td>\n",
       "      <td>2021-04-07T17:56:34.238Z</td>\n",
       "      <td>Consejos para financiar con inteligencia sus e...</td>\n",
       "      <td>Si estudiar es uno de sus principales objetivo...</td>\n",
       "      <td>0</td>\n",
       "    </tr>\n",
       "    <tr>\n",
       "      <th>4</th>\n",
       "      <td>4</td>\n",
       "      <td>Durante el último año de la carrera universita...</td>\n",
       "      <td>2022-04-02T18:08:22.865Z</td>\n",
       "      <td>Pruebas Saber Pro: el listado de universidades...</td>\n",
       "      <td>Las universidades públicas presentaron preocup...</td>\n",
       "      <td>0</td>\n",
       "    </tr>\n",
       "    <tr>\n",
       "      <th>...</th>\n",
       "      <td>...</td>\n",
       "      <td>...</td>\n",
       "      <td>...</td>\n",
       "      <td>...</td>\n",
       "      <td>...</td>\n",
       "      <td>...</td>\n",
       "    </tr>\n",
       "    <tr>\n",
       "      <th>1928</th>\n",
       "      <td>495</td>\n",
       "      <td>Colombia sigue aumentando su endeudamiento ext...</td>\n",
       "      <td>2023-02-10T23:08:47.922Z</td>\n",
       "      <td>Deuda externa de Colombia representó el 52,8% ...</td>\n",
       "      <td>Así lo deja en evidencia el más reciente repor...</td>\n",
       "      <td>3</td>\n",
       "    </tr>\n",
       "    <tr>\n",
       "      <th>1929</th>\n",
       "      <td>496</td>\n",
       "      <td>La Agencia de Estados Unidos para el Desarroll...</td>\n",
       "      <td>2022-09-28T17:00:15.603Z</td>\n",
       "      <td>Lanzan convocatoria para apoyar a más de mil o...</td>\n",
       "      <td>La Usaid estará al frente de este proceso que ...</td>\n",
       "      <td>3</td>\n",
       "    </tr>\n",
       "    <tr>\n",
       "      <th>1930</th>\n",
       "      <td>497</td>\n",
       "      <td>La inflación es uno de los mayores retos que e...</td>\n",
       "      <td>2023-02-25T03:41:20.639Z</td>\n",
       "      <td>Controlar la inflación no será tan fácil como ...</td>\n",
       "      <td>El aumento en los precios será una constante e...</td>\n",
       "      <td>3</td>\n",
       "    </tr>\n",
       "    <tr>\n",
       "      <th>1931</th>\n",
       "      <td>498</td>\n",
       "      <td>23 lugares icónicos de Cúcuta fueron decorados...</td>\n",
       "      <td>2022-12-07T17:16:46.317Z</td>\n",
       "      <td>Reapertura económica en la frontera: artesanas...</td>\n",
       "      <td>Cúcuta prepara la Ruta Navideña luego de haber...</td>\n",
       "      <td>3</td>\n",
       "    </tr>\n",
       "    <tr>\n",
       "      <th>1932</th>\n",
       "      <td>499</td>\n",
       "      <td>Durante las últimas semanas los bancos se han ...</td>\n",
       "      <td>2023-03-14T19:22:40.773Z</td>\n",
       "      <td>Tras anuncio del Gobierno Petro, el Banco Agra...</td>\n",
       "      <td>La ministra de Agricultura, Cecilia López, les...</td>\n",
       "      <td>3</td>\n",
       "    </tr>\n",
       "  </tbody>\n",
       "</table>\n",
       "<p>1933 rows × 6 columns</p>\n",
       "</div>"
      ],
      "text/plain": [
       "      index                                            content  \\\n",
       "0         0  Como parte de la política de puertas abiertas ...   \n",
       "1         1  El programa, que cumple 30 años desde su prime...   \n",
       "2         2  Estudiar una carrera universitaria en Colombia...   \n",
       "3         3  Escuche aquí el episodio número 27 de Finanzas...   \n",
       "4         4  Durante el último año de la carrera universita...   \n",
       "...     ...                                                ...   \n",
       "1928    495  Colombia sigue aumentando su endeudamiento ext...   \n",
       "1929    496  La Agencia de Estados Unidos para el Desarroll...   \n",
       "1930    497  La inflación es uno de los mayores retos que e...   \n",
       "1931    498  23 lugares icónicos de Cúcuta fueron decorados...   \n",
       "1932    499  Durante las últimas semanas los bancos se han ...   \n",
       "\n",
       "                          date  \\\n",
       "0     2022-02-08T19:12:01.737Z   \n",
       "1     2022-05-14T18:02:23.629Z   \n",
       "2     2022-10-19T09:45:01.712Z   \n",
       "3     2021-04-07T17:56:34.238Z   \n",
       "4     2022-04-02T18:08:22.865Z   \n",
       "...                        ...   \n",
       "1928  2023-02-10T23:08:47.922Z   \n",
       "1929  2022-09-28T17:00:15.603Z   \n",
       "1930  2023-02-25T03:41:20.639Z   \n",
       "1931  2022-12-07T17:16:46.317Z   \n",
       "1932  2023-03-14T19:22:40.773Z   \n",
       "\n",
       "                                               headline  \\\n",
       "0     La CAN abre convocatorias para pasantías en Co...   \n",
       "1     Colfuturo apoyará a 1.526 profesionales colomb...   \n",
       "2     ¿Cómo estudiar becado en la mejor universidad ...   \n",
       "3     Consejos para financiar con inteligencia sus e...   \n",
       "4     Pruebas Saber Pro: el listado de universidades...   \n",
       "...                                                 ...   \n",
       "1928  Deuda externa de Colombia representó el 52,8% ...   \n",
       "1929  Lanzan convocatoria para apoyar a más de mil o...   \n",
       "1930  Controlar la inflación no será tan fácil como ...   \n",
       "1931  Reapertura económica en la frontera: artesanas...   \n",
       "1932  Tras anuncio del Gobierno Petro, el Banco Agra...   \n",
       "\n",
       "                                            description  clase  \n",
       "0     La Comunidad Andina de Naciones abrió la posib...      0  \n",
       "1     Los beneficiarios, en su mayoría, realizaron e...      0  \n",
       "2     Según el ranking de Times Higher Education, la...      0  \n",
       "3     Si estudiar es uno de sus principales objetivo...      0  \n",
       "4     Las universidades públicas presentaron preocup...      0  \n",
       "...                                                 ...    ...  \n",
       "1928  Así lo deja en evidencia el más reciente repor...      3  \n",
       "1929  La Usaid estará al frente de este proceso que ...      3  \n",
       "1930  El aumento en los precios será una constante e...      3  \n",
       "1931  Cúcuta prepara la Ruta Navideña luego de haber...      3  \n",
       "1932  La ministra de Agricultura, Cecilia López, les...      3  \n",
       "\n",
       "[1933 rows x 6 columns]"
      ]
     },
     "execution_count": 17,
     "metadata": {},
     "output_type": "execute_result"
    }
   ],
   "source": [
    "df"
   ]
  },
  {
   "cell_type": "code",
   "execution_count": 18,
   "id": "d213e4ac-f004-45d5-8fe9-cba3a1996f54",
   "metadata": {},
   "outputs": [
    {
     "data": {
      "text/plain": [
       "'Como parte de la política de puertas abiertas a las nuevas generaciones andinas, el secretario general de la Comunidad Andina de Naciones (CAN), Jorge Hernando Pedraza, anunció la convocatoria al XI programa de pasantías profesionales en el organismo andino “practiCAN”. Según se informó, podrán aplicar estudiantes universitarios que estén cursando el último semestre académico, egresados, técnicos y profesionales recién titulados en un tiempo no mayor a un año de diferentes escuelas y facultades universitarias de Bolivia, Colombia, Ecuador y Perú. “Esta iniciativa busca fortalecer una mayor vinculación de los jóvenes de los países miembros con el proceso andino de integración e impulsar que las nuevas generaciones asuman un rol más activo en la región desarrollando sus capacidades profesionales en las diversas áreas de la Secretaría General”, señaló el jefe del organismo. Podrán ser parte de “practiCAN 2022″, los jóvenes de las carreras Comercio Exterior, Relaciones Internacionales, Negocios Internacionales, Economía, Ingeniería Económica, Comercial, Industrial, de Telecomunicaciones, Eléctrica, Química, de la Energía, Ambiental, Civil, Transportes, Logística, Ingeniería de Sistemas, Técnicos y/o Tecnólogos Informáticos. Asimismo, profesionales de Química Farmacéutica, Medicina Veterinaria, Agronomía, Sociología, Geografía, Historia, Antropología, Ciencias Sociales, Derecho, Derecho Internacional Público, Ciencias Políticas, Administración, Contabilidad, Recursos Humanos, Psicología, Archivística y Gestión Documental, Periodismo, Diseño Gráfico, Community Manager, Audiovisuales, Infografista o carreras afines a las descritas. Las postulaciones se recibirán hasta el 20 de febrero próximo y los resultados se publicarán el 3 de marzo. Según informó la Comunidad Andina de Naciones, el inicio de las pasantías se podrán llevar a cabo en tres modalidades: presenciales, semipresenciales y virtuales dependiendo de cada postulación. Las pasantías, según se informó, no contarán con remuneración económica. Aquí se pueden conocer las condiciones específicas y el formulario de inscripción ¿Qué es la CAN? La Comunidad Andina, integrada por Bolivia, Colombia, Ecuador y Perú es un organismo internacional líder en integración en el continente, que trabaja por el mejoramiento de la calidad de vida de 111 millones de ciudadanos andinos. La CAN cuenta con diversos órganos e instituciones que integran el Sistema Andino de Integración (SAI), cuyo objetivo es alcanzar un desarrollo integral, equilibrado y autónomo, mediante la integración andina, con proyección hacia una integración sudamericana y latinoamericana. Desde el 26 de mayo de 1969, cuando se suscribió en Colombia, el Acuerdo de Cartagena, Tratado Constitutivo que fija los objetivos de la integración andina, define su sistema institucional y establece sus mecanismos y políticas, se puso en marcha el proceso andino de integración, conocido en ese entonces como Pacto Andino, hoy Comunidad Andina. Beneficios de la CAN a los ciudadanos Desde el sábado primero de enero de 2022, los bolivianos, colombianos, ecuatorianos y peruanos no tendrán que abonar ningún recargo adicional por el servicio de roaming internacional pospago en los países de la Comunidad Andina de Naciones (CAN). “Gracias a la Decisión 854, norma supranacional y de obligatorio cumplimiento, se aplicarán las mismas condiciones o planes tarifarios que el país de origen por los servicios de voz, SMS y datos”, explicó el organismo regional. Este beneficio para el bolsillo de los más de 111 millones de habitantes de la región se enmarca, según se explicó, en una norma que fue aprobada por los países miembros el 19 de febrero de 2020. “Esta histórica decisión contribuye a los esfuerzos de los países de la CAN para cerrar de manera eficaz y efectiva la brecha digital y dar cumplimiento al principio fundacional de nuestro organismo, que es el de mejorar la calidad de vida de los ciudadanos andinos”, afirmó el secretario general de la CAN, Jorge Hernando Pedraza. El jefe del organismo destacó que la eliminación de los cargos de roaming internacional se suma a los hitos recientemente alcanzados por la CAN, como el Estatuto Migratorio Andino, la Carta Ambiental Andina, la norma que facilita la circulación de los vehículos de uso privado de turistas, la próxima implementación del proyecto que facilita y digitaliza el comercio Intercom, entre otras.'"
      ]
     },
     "execution_count": 18,
     "metadata": {},
     "output_type": "execute_result"
    }
   ],
   "source": [
    "df.loc[0, 'content']"
   ]
  },
  {
   "cell_type": "code",
   "execution_count": 19,
   "id": "a82faafb-9408-4965-a88a-de70712130a4",
   "metadata": {},
   "outputs": [],
   "source": [
    "from sklearn.feature_extraction.text import TfidfVectorizer, CountVectorizer\n",
    "import numpy as np\n",
    "import pandas as pd\n",
    "import nltk\n",
    "\n",
    "# Download the NLTK Spanish stopwords if you haven't already\n",
    "spanish_stopwords = nltk.corpus.stopwords.words('spanish')\n",
    "\n",
    "# Initialize the TfidfVectorizer\n",
    "vectorizer_tfidf = TfidfVectorizer(max_features=2000, stop_words=spanish_stopwords, ngram_range=(1,3), lowercase=True)\n",
    "\n",
    "df = df[['content', 'clase']].dropna()\n",
    "\n",
    "# Train the TfidfVectorizer and transform the texts\n",
    "X_tfidf = vectorizer_tfidf.fit_transform(df['content']).todense()\n",
    "y = df['clase']"
   ]
  },
  {
   "cell_type": "code",
   "execution_count": 20,
   "id": "2970a706-0897-4b66-adb3-9df4230c0a49",
   "metadata": {},
   "outputs": [
    {
     "data": {
      "text/plain": [
       "0       0\n",
       "1       0\n",
       "2       0\n",
       "3       0\n",
       "4       0\n",
       "       ..\n",
       "1928    3\n",
       "1929    3\n",
       "1930    3\n",
       "1931    3\n",
       "1932    3\n",
       "Name: clase, Length: 1933, dtype: int64"
      ]
     },
     "execution_count": 20,
     "metadata": {},
     "output_type": "execute_result"
    }
   ],
   "source": [
    "y"
   ]
  },
  {
   "cell_type": "code",
   "execution_count": 21,
   "id": "6887cb76-6981-4482-84f0-4ed0e6753fcd",
   "metadata": {},
   "outputs": [
    {
     "data": {
      "text/plain": [
       "(1, 2000)"
      ]
     },
     "execution_count": 21,
     "metadata": {},
     "output_type": "execute_result"
    }
   ],
   "source": [
    "X_tfidf[0].shape"
   ]
  },
  {
   "cell_type": "code",
   "execution_count": 22,
   "id": "21cc54dc-af3f-4660-a20f-007a47cba909",
   "metadata": {},
   "outputs": [
    {
     "name": "stdout",
     "output_type": "stream",
     "text": [
      "Class 0: Precision: 0.92, Recall: 0.91, F1 score: 0.91\n",
      "Class 1: Precision: 0.88, Recall: 0.91, F1 score: 0.90\n",
      "Class 2: Precision: 0.98, Recall: 1.00, F1 score: 0.99\n",
      "Class 3: Precision: 0.85, Recall: 0.81, F1 score: 0.83\n",
      "Top 10 tokens with largest feature importance:\n",
      "inflación       4.79%\n",
      "fútbol          4.51%\n",
      "estudiantes     3.26%\n",
      "congresistas    2.46%\n",
      "sena            1.84%\n",
      "aerolínea       1.81%\n",
      "petro           1.77%\n",
      "senadores       1.52%\n",
      "octavos         1.45%\n",
      "equipo          1.36%\n"
     ]
    },
    {
     "name": "stderr",
     "output_type": "stream",
     "text": [
      "/Users/zarruk/opt/anaconda3/lib/python3.9/site-packages/sklearn/utils/deprecation.py:87: FutureWarning: Function get_feature_names is deprecated; get_feature_names is deprecated in 1.0 and will be removed in 1.2. Please use get_feature_names_out instead.\n",
      "  warnings.warn(msg, category=FutureWarning)\n"
     ]
    }
   ],
   "source": [
    "from sklearn.datasets import make_classification\n",
    "from sklearn.model_selection import train_test_split\n",
    "from sklearn.metrics import precision_score, recall_score, f1_score\n",
    "import xgboost as xgb\n",
    "\n",
    "# split data into train and test sets\n",
    "X_train, X_test, y_train, y_test = train_test_split(X_tfidf, y, test_size=0.2, random_state=1)\n",
    "\n",
    "# train XGBoost model\n",
    "model = xgb.XGBClassifier()\n",
    "model.fit(X_train, y_train)\n",
    "\n",
    "# make predictions on test set\n",
    "y_pred = model.predict(X_test)\n",
    "\n",
    "# compute precision, recall, and F1 score for each class\n",
    "num_classes = len(set(y_test))\n",
    "precision_scores = []\n",
    "recall_scores = []\n",
    "f1_scores = []\n",
    "for i in range(num_classes):\n",
    "    class_predicted = [1 if x == i else 0 for x in y_pred]\n",
    "    class_real = [1 if x == i else 0 for x in y_test]\n",
    "    precision = precision_score(class_real, class_predicted)\n",
    "    recall = recall_score(class_real, class_predicted)\n",
    "    f1 = f1_score(class_real, class_predicted)\n",
    "    precision_scores.append(precision)\n",
    "    recall_scores.append(recall)\n",
    "    f1_scores.append(f1)\n",
    "\n",
    "# print results\n",
    "for i in range(num_classes):\n",
    "    print(\"Class {}: Precision: {:.2f}, Recall: {:.2f}, F1 score: {:.2f}\".format(i, precision_scores[i], recall_scores[i], f1_scores[i]))\n",
    "\n",
    "# get feature importances and vocabulary\n",
    "feature_importances = model.feature_importances_\n",
    "vocabulary = vectorizer_tfidf.get_feature_names()\n",
    "\n",
    "# print the top 10 tokens with the largest feature importance\n",
    "indices = feature_importances.argsort()[::-1]\n",
    "print(\"Top 10 tokens with largest feature importance:\")\n",
    "for i in range(10):\n",
    "    print(\"{:<15} {:.2f}%\".format(vocabulary[indices[i]], feature_importances[indices[i]]*100))"
   ]
  },
  {
   "cell_type": "code",
   "execution_count": 23,
   "id": "6618123a-94d5-47f0-83ff-db8457e9368c",
   "metadata": {},
   "outputs": [
    {
     "name": "stderr",
     "output_type": "stream",
     "text": [
      "/Users/zarruk/opt/anaconda3/lib/python3.9/site-packages/sklearn/utils/validation.py:593: FutureWarning: np.matrix usage is deprecated in 1.0 and will raise a TypeError in 1.2. Please convert to a numpy array with np.asarray. For more information see: https://numpy.org/doc/stable/reference/generated/numpy.matrix.html\n",
      "  warnings.warn(\n"
     ]
    },
    {
     "name": "stdout",
     "output_type": "stream",
     "text": [
      "Top n most important features of each cluster:\n",
      "Cluster 1: ['petro', 'gobierno', 'presidente', 'gustavo', 'paz', 'reforma', 'gustavo petro', 'congreso', 'salud', 'semana']\n",
      "Cluster 2: ['equipo', 'fútbol', 'partido', 'mundial', 'selección', 'copa', 'final', 'qatar', 'jugadores', 'argentina']\n",
      "Cluster 3: ['educación', 'estudiantes', 'universidad', 'niños', 'colegios', 'jóvenes', 'programa', 'instituciones', 'superior', 'pandemia']\n",
      "Cluster 4: ['inflación', 'pesos', 'año', 'precios', 'colombia', 'precio', 'mercado', '000', 'país', 'tasas']\n"
     ]
    }
   ],
   "source": [
    "from sklearn.feature_extraction.text import TfidfVectorizer\n",
    "from sklearn.cluster import KMeans\n",
    "from sklearn.preprocessing import normalize\n",
    "import pandas as pd\n",
    "\n",
    "# normalize TF-IDF embeddings\n",
    "tfidf_embeddings_normalized = normalize(X_tfidf)\n",
    "\n",
    "# perform k-means clustering\n",
    "num_clusters = 4\n",
    "kmeans = KMeans(n_clusters=num_clusters, random_state=1)\n",
    "kmeans.fit(tfidf_embeddings_normalized)\n",
    "\n",
    "# get feature importances and vocabulary\n",
    "feature_importances = kmeans.cluster_centers_\n",
    "vocabulary = vectorizer_tfidf.vocabulary_\n",
    "\n",
    "# print the top 5 most important features of each cluster\n",
    "print(\"Top n most important features of each cluster:\")\n",
    "for i in range(num_clusters):\n",
    "    indices = np.argsort(feature_importances[i])[::-1][:10]\n",
    "    features = [list(vocabulary.keys())[list(vocabulary.values()).index(index)] for index in indices]\n",
    "    print(\"Cluster {}: {}\".format(i+1, features))\n"
   ]
  },
  {
   "cell_type": "code",
   "execution_count": 24,
   "id": "55bbf17f-95c1-40b7-96dc-47e39409b7d0",
   "metadata": {},
   "outputs": [
    {
     "data": {
      "text/plain": [
       "'La Secretaría de Educación de Bogotá informó que hasta el próximo viernes 30 de octubre las madres, padres de familia y cuidadores tendrán plazo para realizar la inscripción de estudiantes nuevos a los cerca de 400 colegios públicos de la ciudad Hasta el momento más de 75 mil personas han solicitado un cupo para formar parte del sistema educativo público de la ciudad, que a partir del próximo año ofrecerá los tres grados de primera infancia: prejardín, jardín y transición, además de garantizar la mejor oferta educativa para los estudiantes de básica primaria, secundaria y media. De acuerdo con el cronograma, los padres de familia que aún no hayan solicitado un cupo y quieran hacerlo tienen plazo hasta el próximo viernes 30 de octubre. Para realizar la inscripción lo pueden hacer fácilmente en el sitio web. Primero debe ingresar a www.educacionbogota.edu.coi, oprimir el botón ‘Matricúlate aquí’, seleccionar la opción ‘Solicita cupo escolar’ y validar la información. Para la inscripción, es fundamental tener a la mano el documento de identidad del acudiente y del estudiante. La asignación se realizará de acuerdo con la disponibilidad de cupo escolar en el colegio solicitado. La secretaria de Educación del Distrito, Edna Bonilla Sebá, invitó a las familias a que no dejen los trámites para último momento y matriculen a sus hijos en el sistema oficial de la ciudad. “Trabajamos para que Bogotá brinde todas las oportunidades de acceso y permanencia escolar con una educación de calidad. Estamos en la capacidad de garantizar su educación en los colegios públicos a todas las niñas, niños y jóvenes que lo requieran”. Una vez conocidos los resultados se deberá dar clic en el botón ‘Aceptar’ y cargar en formato PDF los documentos solicitados: Los estudiantes de grado primero en adelante también podrán consultar los resultados de su solicitud y formalizar la matrícula en tres etapas:'"
      ]
     },
     "execution_count": 24,
     "metadata": {},
     "output_type": "execute_result"
    }
   ],
   "source": [
    "df.loc[50, 'content']"
   ]
  },
  {
   "cell_type": "code",
   "execution_count": 26,
   "id": "ac7e847c-97d4-4ac0-b3a9-3542914d062b",
   "metadata": {},
   "outputs": [
    {
     "data": {
      "image/png": "[encoded data removed]",
      "text/plain": [
       "<Figure size 864x576 with 4 Axes>"
      ]
     },
     "metadata": {
      "needs_background": "light"
     },
     "output_type": "display_data"
    }
   ],
   "source": [
    "from sklearn.metrics.pairwise import cosine_similarity\n",
    "import matplotlib.pyplot as plt\n",
    "\n",
    "cosine_similarities = cosine_similarity(tfidf_embeddings_normalized[50].reshape(1, -1), tfidf_embeddings_normalized).reshape(-1)\n",
    "df['similarities'] = cosine_similarities\n",
    "grouped_similarities = df.groupby('clase')['similarities'].apply(list)\n",
    "\n",
    "# Determine the common range for the x-axis\n",
    "min_value = df['similarities'].min()\n",
    "max_value = df['similarities'].max()\n",
    "bins = 100\n",
    "common_range = (min_value, max_value)\n",
    "\n",
    "fig, axes = plt.subplots(nrows=2, ncols=2, figsize=(12, 8))\n",
    "axes = axes.flatten()\n",
    "\n",
    "for i, (class_name, similarities) in enumerate(grouped_similarities.items()):\n",
    "    axes[i].hist(similarities, bins=bins, range=common_range, alpha=0.5, label=class_name, color=f\"C{i}\")\n",
    "    axes[i].set_title(f'Cosine Similarities for Class: {class_name}')\n",
    "    axes[i].set_xlabel('Cosine Similarity')\n",
    "    axes[i].set_ylabel('Frequency')\n",
    "\n",
    "fig.tight_layout()\n",
    "plt.show()"
   ]
  },
  {
   "cell_type": "code",
   "execution_count": 32,
   "id": "7a71828f-4173-4b4b-8799-70de09859f06",
   "metadata": {},
   "outputs": [
    {
     "name": "stderr",
     "output_type": "stream",
     "text": [
      "OMP: Info #271: omp_set_nested routine deprecated, please use omp_set_max_active_levels instead.\n"
     ]
    },
    {
     "data": {
      "image/png": "[encoded data removed]",
      "text/plain": [
       "<Figure size 432x288 with 1 Axes>"
      ]
     },
     "metadata": {
      "needs_background": "light"
     },
     "output_type": "display_data"
    }
   ],
   "source": [
    "from sklearn.feature_extraction.text import TfidfVectorizer\n",
    "from sklearn.cluster import KMeans\n",
    "from sklearn.preprocessing import normalize\n",
    "import pandas as pd\n",
    "import umap.umap_ as umap\n",
    "import matplotlib.pyplot as plt\n",
    "\n",
    "# perform UMAP dimensionality reduction on all data points\n",
    "umap_embeddings = umap.UMAP().fit_transform(tfidf_embeddings_normalized)\n",
    "\n",
    "# assign a color to each cluster label\n",
    "cmap = plt.get_cmap('viridis')\n",
    "colors = [cmap(i) for i in np.linspace(0, 1, num_clusters)]\n",
    "\n",
    "# plot all data points with different colors and labels for each cluster\n",
    "for i in range(num_clusters):\n",
    "    # get the indices of data points in this cluster\n",
    "    indices = kmeans.labels_ == i\n",
    "    # plot the data points with a different color and label name for this cluster\n",
    "    plt.scatter(umap_embeddings[indices, 0], umap_embeddings[indices, 1], c=[colors[i]], label=f'Cluster {i}')\n",
    "    \n",
    "# add legend to the plot\n",
    "plt.legend()\n",
    "\n",
    "# show the plot\n",
    "plt.show()"
   ]
  },
  {
   "cell_type": "code",
   "execution_count": 33,
   "id": "7c50685e-b2dd-4aeb-86c5-7182e66288f6",
   "metadata": {},
   "outputs": [
    {
     "name": "stderr",
     "output_type": "stream",
     "text": [
      "/Users/zarruk/opt/anaconda3/lib/python3.9/site-packages/sklearn/utils/validation.py:593: FutureWarning: np.matrix usage is deprecated in 1.0 and will raise a TypeError in 1.2. Please convert to a numpy array with np.asarray. For more information see: https://numpy.org/doc/stable/reference/generated/numpy.matrix.html\n",
      "  warnings.warn(\n"
     ]
    },
    {
     "name": "stdout",
     "output_type": "stream",
     "text": [
      "Top n most important features of each cluster:\n",
      "Cluster 1: ['maduro', 'venezuela', 'colombia', 'unidos', 'petro', 'biden', 'presidente', 'brasil', 'relaciones', 'nicolás maduro']\n",
      "Cluster 2: ['salud', 'reforma', 'reforma salud', 'eps', 'sistema', 'corcho', 'partido', 'ministra', 'sistema salud', 'gobierno']\n",
      "Cluster 3: ['petro', 'partido', 'presidente', 'gobierno', 'democrático', 'cabal', 'centro', 'centro democrático', 'oposición', 'gustavo']\n",
      "Cluster 4: ['fiscal', 'barbosa', 'justicia', 'fiscalía', 'general', 'denuncia', 'contratos', 'sometimiento', 'fiscal general', 'víctimas']\n",
      "Cluster 5: ['gas', 'vélez', 'ministra', 'energía', 'minas', 'moción', 'censura', 'irene', 'moción censura', 'petróleo']\n",
      "Cluster 6: ['semana', 'usted', 'creo', 'dije', 'petro', 'cómo', 'si', 'gente', 'va', 'cree']\n",
      "Cluster 7: ['barreras', 'congreso', 'pacto', 'senado', 'roy', 'pacto histórico', 'roy barreras', 'histórico', 'reforma política', 'presidente']\n",
      "Cluster 8: ['tributaria', 'reforma', 'reforma tributaria', 'partido', 'gobierno', 'impuestos', 'petro', 'iglesias', 'impuesto', 'bancada']\n",
      "Cluster 9: ['petro', 'presidente', 'bogotá', 'gobierno', 'colombia', 'país', 'nacional', 'metro', 'proyecto', 'personas']\n",
      "Cluster 10: ['paz', 'eln', 'cese', 'gobierno', 'petro', 'paz total', 'fuego', 'total', 'presidente', 'farc']\n"
     ]
    }
   ],
   "source": [
    "from sklearn.feature_extraction.text import TfidfVectorizer\n",
    "from sklearn.cluster import KMeans\n",
    "from sklearn.preprocessing import normalize\n",
    "import pandas as pd\n",
    "\n",
    "df_subclusters = df_politica[['content', 'clase']].dropna()\n",
    "\n",
    "# Train the TfidfVectorizer and transform the texts\n",
    "X_tfidf = vectorizer_tfidf.fit_transform(df_subclusters['content']).todense()\n",
    "y = df['clase']\n",
    "\n",
    "# normalize TF-IDF embeddings\n",
    "tfidf_embeddings_normalized = normalize(X_tfidf)\n",
    "\n",
    "# perform k-means clustering\n",
    "num_clusters = 10\n",
    "kmeans = KMeans(n_clusters=num_clusters, random_state=1)\n",
    "kmeans.fit(tfidf_embeddings_normalized)\n",
    "\n",
    "# get feature importances and vocabulary\n",
    "feature_importances = kmeans.cluster_centers_\n",
    "vocabulary = vectorizer_tfidf.vocabulary_\n",
    "\n",
    "# print the top 5 most important features of each cluster\n",
    "print(\"Top n most important features of each cluster:\")\n",
    "for i in range(num_clusters):\n",
    "    indices = np.argsort(feature_importances[i])[::-1][:10]\n",
    "    features = [list(vocabulary.keys())[list(vocabulary.values()).index(index)] for index in indices]\n",
    "    print(\"Cluster {}: {}\".format(i+1, features))\n"
   ]
  },
  {
   "cell_type": "code",
   "execution_count": 34,
   "id": "2b914f19-db9e-4f7a-9562-f363fd4cebc1",
   "metadata": {},
   "outputs": [
    {
     "name": "stderr",
     "output_type": "stream",
     "text": [
      "/Users/zarruk/opt/anaconda3/lib/python3.9/site-packages/sklearn/utils/validation.py:593: FutureWarning: np.matrix usage is deprecated in 1.0 and will raise a TypeError in 1.2. Please convert to a numpy array with np.asarray. For more information see: https://numpy.org/doc/stable/reference/generated/numpy.matrix.html\n",
      "  warnings.warn(\n"
     ]
    },
    {
     "name": "stdout",
     "output_type": "stream",
     "text": [
      "Top n most important features of each cluster:\n",
      "Cluster 1: ['qatar', 'mundial', 'fifa', 'mundo', 'país', 'copa mundo', 'derechos', 'fútbol', 'copa', '2022']\n",
      "Cluster 2: ['messi', 'argentina', 'mundial', 'mundo', 'qatar', 'final', 'lionel', 'copa', 'selección', 'partido']\n",
      "Cluster 3: ['millonarios', 'junior', 'club', 'equipo', 'nacional', 'liga', 'deportivo', 'cali', 'fútbol', 'jugador']\n",
      "Cluster 4: ['win', 'televisión win', 'televisión', 'vs', 'hora', 'estadio', 'hora 00 estadio', '00 estadio', 'hora 00', 'fc']\n",
      "Cluster 5: ['team', 'etapa', 'col', 'ineos', 'ciclista', 'astana', 'vuelta', 'lópez', 'urán', 'ef']\n",
      "Cluster 6: ['colombia', 'selección', 'sub', 'tricolor', 'selección colombia', 'femenina', 'lorenzo', 'mundial', 'fútbol', 'sub 17']\n",
      "Cluster 7: ['madrid', 'partido', 'real', 'equipo', 'real madrid', 'gol', 'minutos', 'tras', 'puntos', 'juego']\n",
      "Cluster 8: ['liverpool', 'díaz', 'united', 'luis díaz', 'luis', 'manchester', 'klopp', 'premier', 'league', 'colombiano']\n",
      "Cluster 9: ['james', 'olympiacos', 'james rodríguez', 'rodríguez', 'grecia', 'rayyan', 'griego', 'volante', 'equipo', 'colombia']\n",
      "Cluster 10: ['pelé', 'edson', 'hospital', 'nascimento', 'amor', 'rey', 'fútbol', 'mundo', 'mensaje', 'maradona']\n"
     ]
    }
   ],
   "source": [
    "from sklearn.feature_extraction.text import TfidfVectorizer\n",
    "from sklearn.cluster import KMeans\n",
    "from sklearn.preprocessing import normalize\n",
    "import pandas as pd\n",
    "\n",
    "df_subclusters = df_deportes[['content', 'clase']].dropna()\n",
    "\n",
    "# Train the TfidfVectorizer and transform the texts\n",
    "X_tfidf = vectorizer_tfidf.fit_transform(df_subclusters['content']).todense()\n",
    "y = df['clase']\n",
    "\n",
    "# normalize TF-IDF embeddings\n",
    "tfidf_embeddings_normalized = normalize(X_tfidf)\n",
    "\n",
    "# perform k-means clustering\n",
    "num_clusters = 10\n",
    "kmeans = KMeans(n_clusters=num_clusters, random_state=1)\n",
    "kmeans.fit(tfidf_embeddings_normalized)\n",
    "\n",
    "# get feature importances and vocabulary\n",
    "feature_importances = kmeans.cluster_centers_\n",
    "vocabulary = vectorizer_tfidf.vocabulary_\n",
    "\n",
    "# print the top 5 most important features of each cluster\n",
    "print(\"Top n most important features of each cluster:\")\n",
    "for i in range(num_clusters):\n",
    "    indices = np.argsort(feature_importances[i])[::-1][:10]\n",
    "    features = [list(vocabulary.keys())[list(vocabulary.values()).index(index)] for index in indices]\n",
    "    print(\"Cluster {}: {}\".format(i+1, features))\n"
   ]
  },
  {
   "cell_type": "code",
   "execution_count": 35,
   "id": "8c785212-5886-4914-ad1e-c601011456e0",
   "metadata": {},
   "outputs": [
    {
     "name": "stderr",
     "output_type": "stream",
     "text": [
      "/Users/zarruk/opt/anaconda3/lib/python3.9/site-packages/sklearn/utils/validation.py:593: FutureWarning: np.matrix usage is deprecated in 1.0 and will raise a TypeError in 1.2. Please convert to a numpy array with np.asarray. For more information see: https://numpy.org/doc/stable/reference/generated/numpy.matrix.html\n",
      "  warnings.warn(\n"
     ]
    },
    {
     "name": "stdout",
     "output_type": "stream",
     "text": [
      "Top n most important features of each cluster:\n",
      "Cluster 1: ['inflación', 'banco', 'tasas', 'interés', 'fed', 'bancos', 'tasas interés', 'economía', 'unidos', 'puntos']\n",
      "Cluster 2: ['aerolínea', 'viva', 'air', 'avianca', 'viva air', 'pasajeros', 'aerolíneas', 'vuelos', 'aeronáutica', 'transporte']\n",
      "Cluster 3: ['vivienda', 'vehículos', 'programa', 'subsidio', 'año', 'hogares', 'subsidios', 'bogotá', 'sector', 'ciudad']\n",
      "Cluster 4: ['energía', 'presidente', 'gas', 'gobierno', 'país', 'nacional', 'energética', 'colombia', 'ecopetrol', 'petro']\n",
      "Cluster 5: ['dólares', 'millones', 'millones dólares', 'precios', 'año', 'producción', '2022', 'países', '000', '2023']\n",
      "Cluster 6: ['salario', 'laboral', 'salud', '000', 'personas', 'trabajo', 'trabajadores', 'mínimo', 'salario mínimo', 'mujeres']\n",
      "Cluster 7: ['pesos', 'dólar', 'centavos', 'precio', 'inflación', 'divisa', 'unidos', 'tasas', 'mercado', 'moneda']\n",
      "Cluster 8: ['unidades', 'ecopetrol', 'bolsa', 'acciones', 'jornada', 'valores', 'bolsa valores', 'bolsa valores colombia', 'valores colombia', 'colcap']\n",
      "Cluster 9: ['reforma', 'tributaria', 'reforma tributaria', 'impuesto', 'billones', 'impuestos', 'gobierno', 'billones pesos', 'pesos', 'iva']\n",
      "Cluster 10: ['empresas', 'clientes', 'puede', 'digital', 'tener', 'pueden', 'seguridad', 'tecnología', 'pago', 'hacer']\n"
     ]
    }
   ],
   "source": [
    "from sklearn.feature_extraction.text import TfidfVectorizer\n",
    "from sklearn.cluster import KMeans\n",
    "from sklearn.preprocessing import normalize\n",
    "import pandas as pd\n",
    "\n",
    "df_subclusters = df_economia[['content', 'clase']].dropna()\n",
    "\n",
    "# Train the TfidfVectorizer and transform the texts\n",
    "X_tfidf = vectorizer_tfidf.fit_transform(df_subclusters['content']).todense()\n",
    "y = df['clase']\n",
    "\n",
    "# normalize TF-IDF embeddings\n",
    "tfidf_embeddings_normalized = normalize(X_tfidf)\n",
    "\n",
    "# perform k-means clustering\n",
    "num_clusters = 10\n",
    "kmeans = KMeans(n_clusters=num_clusters, random_state=1)\n",
    "kmeans.fit(tfidf_embeddings_normalized)\n",
    "\n",
    "# get feature importances and vocabulary\n",
    "feature_importances = kmeans.cluster_centers_\n",
    "vocabulary = vectorizer_tfidf.vocabulary_\n",
    "\n",
    "# print the top 5 most important features of each cluster\n",
    "print(\"Top n most important features of each cluster:\")\n",
    "for i in range(num_clusters):\n",
    "    indices = np.argsort(feature_importances[i])[::-1][:10]\n",
    "    features = [list(vocabulary.keys())[list(vocabulary.values()).index(index)] for index in indices]\n",
    "    print(\"Cluster {}: {}\".format(i+1, features))\n"
   ]
  }
 ],
 "metadata": {
  "kernelspec": {
   "display_name": "Python 3 (ipykernel)",
   "language": "python",
   "name": "python3"
  },
  "language_info": {
   "codemirror_mode": {
    "name": "ipython",
    "version": 3
   },
   "file_extension": ".py",
   "mimetype": "text/x-python",
   "name": "python",
   "nbconvert_exporter": "python",
   "pygments_lexer": "ipython3",
   "version": "3.9.12"
  }
 },
 "nbformat": 4,
 "nbformat_minor": 5
}
