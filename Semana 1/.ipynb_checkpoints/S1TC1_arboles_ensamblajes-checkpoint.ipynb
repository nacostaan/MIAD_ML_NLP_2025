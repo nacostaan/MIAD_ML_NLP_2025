{
 "cells": [
  {
   "cell_type": "markdown",
   "metadata": {},
   "source": [
    "![image info](https://raw.githubusercontent.com/albahnsen/MIAD_ML_and_NLP/main/images/banner_1.png)"
   ]
  },
  {
   "cell_type": "markdown",
   "metadata": {},
   "source": [
    "# Taller: Construcción e implementación de árboles de decisión y métodos de ensamblaje\n",
    "\n",
    "En este taller podrá poner en práctica los sus conocimientos sobre construcción e implementación de árboles de decisión y métodos de ensamblajes. El taller está constituido por 9 puntos, 5 relacionados con árboles de decisión (parte A) y 4 con métodos de ensamblaje (parte B)."
   ]
  },
  {
   "cell_type": "markdown",
   "metadata": {},
   "source": [
    "## Parte A - Árboles de decisión\n",
    "\n",
    "En esta parte del taller se usará el conjunto de datos de Capital Bikeshare de Kaggle, donde cada observación representa el alquiler de bicicletas durante una hora y día determinado. Para más detalles puede visitar los siguientes enlaces: [datos](https://archive.ics.uci.edu/ml/machine-learning-databases/00275/Bike-Sharing-Dataset.zip), [dicccionario de datos](https://archive.ics.uci.edu/ml/datasets/Bike+Sharing+Dataset#)."
   ]
  },
  {
   "cell_type": "markdown",
   "metadata": {},
   "source": [
    "### Datos prestamo de bicicletas"
   ]
  },
  {
   "cell_type": "code",
   "execution_count": 1,
   "metadata": {},
   "outputs": [],
   "source": [
    "import warnings\n",
    "warnings.filterwarnings('ignore')"
   ]
  },
  {
   "cell_type": "code",
   "execution_count": 76,
   "metadata": {},
   "outputs": [],
   "source": [
    "# Importación de librerías\n",
    "%matplotlib inline\n",
    "import pandas as pd\n",
    "import numpy as np\n",
    "import matplotlib.pyplot as plt ## Incluí esta librería para las gráficas\n",
    "from sklearn.model_selection import cross_val_score, train_test_split\n",
    "from sklearn.linear_model import LinearRegression,LogisticRegression\n",
    "from sklearn.tree import DecisionTreeRegressor, export_graphviz, DecisionTreeClassifier\n",
    "from sklearn.metrics import accuracy_score, f1_score, mean_squared_error"
   ]
  },
  {
   "cell_type": "code",
   "execution_count": 3,
   "metadata": {},
   "outputs": [
    {
     "data": {
      "text/html": [
       "<div>\n",
       "<style scoped>\n",
       "    .dataframe tbody tr th:only-of-type {\n",
       "        vertical-align: middle;\n",
       "    }\n",
       "\n",
       "    .dataframe tbody tr th {\n",
       "        vertical-align: top;\n",
       "    }\n",
       "\n",
       "    .dataframe thead th {\n",
       "        text-align: right;\n",
       "    }\n",
       "</style>\n",
       "<table border=\"1\" class=\"dataframe\">\n",
       "  <thead>\n",
       "    <tr style=\"text-align: right;\">\n",
       "      <th></th>\n",
       "      <th>season</th>\n",
       "      <th>holiday</th>\n",
       "      <th>workingday</th>\n",
       "      <th>weather</th>\n",
       "      <th>temp</th>\n",
       "      <th>atemp</th>\n",
       "      <th>humidity</th>\n",
       "      <th>windspeed</th>\n",
       "      <th>casual</th>\n",
       "      <th>registered</th>\n",
       "      <th>total</th>\n",
       "      <th>hour</th>\n",
       "    </tr>\n",
       "    <tr>\n",
       "      <th>datetime</th>\n",
       "      <th></th>\n",
       "      <th></th>\n",
       "      <th></th>\n",
       "      <th></th>\n",
       "      <th></th>\n",
       "      <th></th>\n",
       "      <th></th>\n",
       "      <th></th>\n",
       "      <th></th>\n",
       "      <th></th>\n",
       "      <th></th>\n",
       "      <th></th>\n",
       "    </tr>\n",
       "  </thead>\n",
       "  <tbody>\n",
       "    <tr>\n",
       "      <th>2011-01-01 00:00:00</th>\n",
       "      <td>1</td>\n",
       "      <td>0</td>\n",
       "      <td>0</td>\n",
       "      <td>1</td>\n",
       "      <td>9.84</td>\n",
       "      <td>14.395</td>\n",
       "      <td>81</td>\n",
       "      <td>0.0</td>\n",
       "      <td>3</td>\n",
       "      <td>13</td>\n",
       "      <td>16</td>\n",
       "      <td>0</td>\n",
       "    </tr>\n",
       "    <tr>\n",
       "      <th>2011-01-01 01:00:00</th>\n",
       "      <td>1</td>\n",
       "      <td>0</td>\n",
       "      <td>0</td>\n",
       "      <td>1</td>\n",
       "      <td>9.02</td>\n",
       "      <td>13.635</td>\n",
       "      <td>80</td>\n",
       "      <td>0.0</td>\n",
       "      <td>8</td>\n",
       "      <td>32</td>\n",
       "      <td>40</td>\n",
       "      <td>1</td>\n",
       "    </tr>\n",
       "    <tr>\n",
       "      <th>2011-01-01 02:00:00</th>\n",
       "      <td>1</td>\n",
       "      <td>0</td>\n",
       "      <td>0</td>\n",
       "      <td>1</td>\n",
       "      <td>9.02</td>\n",
       "      <td>13.635</td>\n",
       "      <td>80</td>\n",
       "      <td>0.0</td>\n",
       "      <td>5</td>\n",
       "      <td>27</td>\n",
       "      <td>32</td>\n",
       "      <td>2</td>\n",
       "    </tr>\n",
       "    <tr>\n",
       "      <th>2011-01-01 03:00:00</th>\n",
       "      <td>1</td>\n",
       "      <td>0</td>\n",
       "      <td>0</td>\n",
       "      <td>1</td>\n",
       "      <td>9.84</td>\n",
       "      <td>14.395</td>\n",
       "      <td>75</td>\n",
       "      <td>0.0</td>\n",
       "      <td>3</td>\n",
       "      <td>10</td>\n",
       "      <td>13</td>\n",
       "      <td>3</td>\n",
       "    </tr>\n",
       "    <tr>\n",
       "      <th>2011-01-01 04:00:00</th>\n",
       "      <td>1</td>\n",
       "      <td>0</td>\n",
       "      <td>0</td>\n",
       "      <td>1</td>\n",
       "      <td>9.84</td>\n",
       "      <td>14.395</td>\n",
       "      <td>75</td>\n",
       "      <td>0.0</td>\n",
       "      <td>0</td>\n",
       "      <td>1</td>\n",
       "      <td>1</td>\n",
       "      <td>4</td>\n",
       "    </tr>\n",
       "  </tbody>\n",
       "</table>\n",
       "</div>"
      ],
      "text/plain": [
       "                     season  holiday  workingday  weather  temp   atemp  \\\n",
       "datetime                                                                  \n",
       "2011-01-01 00:00:00       1        0           0        1  9.84  14.395   \n",
       "2011-01-01 01:00:00       1        0           0        1  9.02  13.635   \n",
       "2011-01-01 02:00:00       1        0           0        1  9.02  13.635   \n",
       "2011-01-01 03:00:00       1        0           0        1  9.84  14.395   \n",
       "2011-01-01 04:00:00       1        0           0        1  9.84  14.395   \n",
       "\n",
       "                     humidity  windspeed  casual  registered  total  hour  \n",
       "datetime                                                                   \n",
       "2011-01-01 00:00:00        81        0.0       3          13     16     0  \n",
       "2011-01-01 01:00:00        80        0.0       8          32     40     1  \n",
       "2011-01-01 02:00:00        80        0.0       5          27     32     2  \n",
       "2011-01-01 03:00:00        75        0.0       3          10     13     3  \n",
       "2011-01-01 04:00:00        75        0.0       0           1      1     4  "
      ]
     },
     "execution_count": 3,
     "metadata": {},
     "output_type": "execute_result"
    }
   ],
   "source": [
    "# Lectura de la información de archivo .csv\n",
    "bikes = pd.read_csv('https://raw.githubusercontent.com/davidzarruk/MIAD_ML_NLP_2023/main/datasets/bikeshare.csv', index_col='datetime', parse_dates=True)\n",
    "\n",
    "# Renombrar variable \"count\" a \"total\"\n",
    "bikes.rename(columns={'count':'total'}, inplace=True)\n",
    "\n",
    "# Crear la hora como una variable \n",
    "bikes['hour'] = bikes.index.hour\n",
    "\n",
    "# Visualización de los datos\n",
    "bikes.head()"
   ]
  },
  {
   "cell_type": "markdown",
   "metadata": {},
   "source": [
    "### Punto 1 - Análisis descriptivo\n",
    "\n",
    "Ejecute las celdas 1.1 y 1.2. A partir de los resultados realice un análisis descriptivo sobre las variables \"season\" y \"hour\", escriba sus inferencias sobre los datos. Para complementar su análisis puede usar métricas como máximo, mínimo, percentiles entre otros."
   ]
  },
  {
   "cell_type": "code",
   "execution_count": 4,
   "metadata": {},
   "outputs": [
    {
     "data": {
      "text/plain": [
       "season\n",
       "1    116.343261\n",
       "2    215.251372\n",
       "3    234.417124\n",
       "4    198.988296\n",
       "Name: total, dtype: float64"
      ]
     },
     "execution_count": 4,
     "metadata": {},
     "output_type": "execute_result"
    }
   ],
   "source": [
    "# Celda 1.1\n",
    "bikes.groupby('season').total.mean()"
   ]
  },
  {
   "cell_type": "code",
   "execution_count": 5,
   "metadata": {
    "scrolled": true
   },
   "outputs": [
    {
     "data": {
      "text/plain": [
       "hour\n",
       "0      55.138462\n",
       "1      33.859031\n",
       "2      22.899554\n",
       "3      11.757506\n",
       "4       6.407240\n",
       "5      19.767699\n",
       "6      76.259341\n",
       "7     213.116484\n",
       "8     362.769231\n",
       "9     221.780220\n",
       "10    175.092308\n",
       "11    210.674725\n",
       "12    256.508772\n",
       "13    257.787281\n",
       "14    243.442982\n",
       "15    254.298246\n",
       "16    316.372807\n",
       "17    468.765351\n",
       "18    430.859649\n",
       "19    315.278509\n",
       "20    228.517544\n",
       "21    173.370614\n",
       "22    133.576754\n",
       "23     89.508772\n",
       "Name: total, dtype: float64"
      ]
     },
     "execution_count": 5,
     "metadata": {},
     "output_type": "execute_result"
    }
   ],
   "source": [
    "# Celda 1.2\n",
    "bikes.groupby('hour').total.mean()"
   ]
  },
  {
   "cell_type": "code",
   "execution_count": 6,
   "metadata": {},
   "outputs": [
    {
     "name": "stdout",
     "output_type": "stream",
     "text": [
      "Estadísticas descriptivas por estación:\n",
      "          count        mean         std  min   25%    50%    75%    max\n",
      "season                                                                \n",
      "1       2686.0  116.343261  125.273974  1.0  24.0   78.0  164.0  801.0\n",
      "2       2733.0  215.251372  192.007843  1.0  49.0  172.0  321.0  873.0\n",
      "3       2733.0  234.417124  197.151001  1.0  68.0  195.0  347.0  977.0\n",
      "4       2734.0  198.988296  177.622409  1.0  51.0  161.0  294.0  948.0\n"
     ]
    }
   ],
   "source": [
    "# Análisis descriptivo por estación\n",
    "season_stats = bikes.groupby('season')['total'].describe()\n",
    "print(\"Estadísticas descriptivas por estación:\\n\", season_stats)"
   ]
  },
  {
   "cell_type": "code",
   "execution_count": 7,
   "metadata": {
    "scrolled": true
   },
   "outputs": [
    {
     "name": "stdout",
     "output_type": "stream",
     "text": [
      "\n",
      "Estadísticas descriptivas por hora:\n",
      "       count        mean         std   min     25%    50%     75%    max\n",
      "hour                                                                   \n",
      "0     455.0   55.138462   43.620012   2.0   24.00   41.0   74.50  283.0\n",
      "1     454.0   33.859031   34.112105   1.0   11.00   19.0   46.00  168.0\n",
      "2     448.0   22.899554   26.110267   1.0    5.00   11.0   32.00  119.0\n",
      "3     433.0   11.757506   12.666442   1.0    3.00    6.0   15.00   66.0\n",
      "4     442.0    6.407240    4.217633   1.0    3.00    6.0    9.00   28.0\n",
      "5     452.0   19.767699   12.784293   1.0    8.00   19.0   29.00   57.0\n",
      "6     455.0   76.259341   54.745333   1.0   24.50   75.0  118.00  213.0\n",
      "7     455.0  213.116484  159.207044   1.0   63.00  208.0  334.00  596.0\n",
      "8     455.0  362.769231  231.723065   8.0  133.50  392.0  563.50  839.0\n",
      "9     455.0  221.780220   92.099209  14.0  161.00  217.0  294.50  414.0\n",
      "10    455.0  175.092308  101.807629  17.0  106.00  149.0  218.50  539.0\n",
      "11    455.0  210.674725  127.444294  10.0  123.00  183.0  265.50  647.0\n",
      "12    456.0  256.508772  143.881880   3.0  157.00  234.5  332.00  757.0\n",
      "13    456.0  257.787281  149.167185  11.0  154.00  226.5  329.00  729.0\n",
      "14    456.0  243.442982  147.563199  12.0  144.00  212.0  311.25  730.0\n",
      "15    456.0  254.298246  144.235670   7.0  154.00  232.0  331.00  724.0\n",
      "16    456.0  316.372807  145.664786  11.0  211.75  309.5  421.00  783.0\n",
      "17    456.0  468.765351  223.775485  15.0  277.00  480.5  608.50  970.0\n",
      "18    456.0  430.859649  219.908138  23.0  240.75  422.5  564.00  977.0\n",
      "19    456.0  315.278509  156.641732  11.0  190.00  312.5  416.00  743.0\n",
      "20    456.0  228.517544  116.411565  11.0  136.75  224.0  302.00  551.0\n",
      "21    456.0  173.370614   87.629319   6.0  103.50  171.5  230.00  584.0\n",
      "22    456.0  133.576754   69.844495   9.0   80.00  129.0  175.00  502.0\n",
      "23    456.0   89.508772   51.638004   4.0   52.75   80.0  123.00  256.0\n"
     ]
    }
   ],
   "source": [
    "# Análisis descriptivo por hora de alquiler\n",
    "hour_stats = bikes.groupby('hour')['total'].describe()\n",
    "print(\"\\nEstadísticas descriptivas por hora:\\n\", hour_stats)"
   ]
  },
  {
   "cell_type": "markdown",
   "metadata": {},
   "source": [
    "#### Conclusiones punto 1\n",
    "\n",
    "En cuanto a las cifras por estación se puede concluir que las bicicletas son alquiladas en promedio más frecuentemente en las estaciones (season) de verano (3) y la primavera (2) con promedios de 234.4 y 215.2 respectivamente. Esta conclusión se puede reconfirmar con la mediana para verano y primavera ya que son los más altos del conjunto.\n",
    "\n",
    "Los mayores picos de usos del servicio se encuentran a las 8 y entre las 17 y 18 horas que corresponden con inicio y finalización de jornadas laborales o educativas."
   ]
  },
  {
   "cell_type": "markdown",
   "metadata": {},
   "source": [
    "### Punto 2 - Análisis de gráficos\n",
    "\n",
    "Primero ejecute la celda 2.1 y asegúrese de comprender el código y el resultado. Luego, en cada una de celdas 2.2 y 2.3 escriba un código que genere una gráfica del número de bicicletas rentadas promedio para cada valor de la variable \"hour\" (hora) cuando la variable \"season\" es igual a 1 (invierno) e igual a 3 (verano), respectivamente. Analice y escriba sus hallazgos."
   ]
  },
  {
   "cell_type": "code",
   "execution_count": 18,
   "metadata": {},
   "outputs": [
    {
     "data": {
      "image/png": "[encoded data removed]",
      "text/plain": [
       "<Figure size 640x480 with 1 Axes>"
      ]
     },
     "metadata": {},
     "output_type": "display_data"
    }
   ],
   "source": [
    "# Celda 2.1 - rentas promedio para cada valor de la variable \"hour\"\n",
    "bikes.groupby('hour').total.mean().plot()\n",
    "plt.show()                                         #Para ver la gráfica me tocó incluir esta línea de código"
   ]
  },
  {
   "cell_type": "markdown",
   "metadata": {},
   "source": [
    "Se reconfirma lo visto en las métricas descriptivas los picos de uso del servicio de renta son a las 8 y a las 17 horas alcanzando las 362 y 468 bicicletas alquiladas apróximadamente."
   ]
  },
  {
   "cell_type": "code",
   "execution_count": 22,
   "metadata": {},
   "outputs": [
    {
     "data": {
      "image/png": "[encoded data removed]",
      "text/plain": [
       "<Figure size 640x480 with 1 Axes>"
      ]
     },
     "metadata": {},
     "output_type": "display_data"
    }
   ],
   "source": [
    "# Celda 2.2 - \"season\"=1 escriba su código y hallazgos \n",
    "bikes[bikes['season'] == 1].groupby('hour').total.mean().plot(title='Rentas promedio por hora en invierno')\n",
    "plt.show()"
   ]
  },
  {
   "cell_type": "markdown",
   "metadata": {},
   "source": [
    "Se mantiene el comportamiento alto de renta en las horas de todo el conjunto de renta de bicicletas sin embargo el promedio se reduce considerablemente casi a la mitad. Lo anterior tiene sentido dado que por las condiciones climáticas la gente prefiere optar por otros medios de transporte."
   ]
  },
  {
   "cell_type": "code",
   "execution_count": 23,
   "metadata": {},
   "outputs": [
    {
     "data": {
      "image/png": "[encoded data removed]",
      "text/plain": [
       "<Figure size 640x480 with 1 Axes>"
      ]
     },
     "metadata": {},
     "output_type": "display_data"
    }
   ],
   "source": [
    "# Celda 2.3 - \"season\"=3 escriba su código y hallazgos \n",
    "bikes[bikes['season'] == 3].groupby('hour').total.mean().plot(title='Rentas promedio por hora en verano')\n",
    "plt.show()"
   ]
  },
  {
   "cell_type": "markdown",
   "metadata": {},
   "source": [
    "Al igual que en invierno la tendencia por horas se mantiene sin embargo vemos que el promedio de renta frente al conjunto global de datos crece al pasar de 360 ciclas alquiladas a las 8 a 400 y las rentas a las 17 horas pasa de 468 a más de 500."
   ]
  },
  {
   "cell_type": "markdown",
   "metadata": {},
   "source": [
    "### Punto 3 - Regresión lineal\n",
    "En la celda 3 ajuste un modelo de regresión lineal a todo el conjunto de datos, utilizando \"total\" como variable de respuesta y \"season\" y \"hour\" como las únicas variables predictoras, teniendo en cuenta que la variable \"season\" es categórica. Luego, imprima los coeficientes e interprételos. ¿Cuáles son las limitaciones de la regresión lineal en este caso?"
   ]
  },
  {
   "cell_type": "code",
   "execution_count": 52,
   "metadata": {},
   "outputs": [],
   "source": [
    "## División conjunto de datos\n",
    "# Separación de variables predictoras (X) y variable objetivo (y)\n",
    "x_definidos = bikes[['season', 'hour']]  \n",
    "y_definidos = bikes['total']            \n",
    "\n",
    "# División en conjunto de entrenamiento y validación\n",
    "X_train, X_test, y_train, y_test = train_test_split(x_definidos, y_definidos, test_size=0.3, random_state=1)"
   ]
  },
  {
   "cell_type": "code",
   "execution_count": 59,
   "metadata": {},
   "outputs": [
    {
     "name": "stdout",
     "output_type": "stream",
     "text": [
      "MSE en el conjunto de prueba: 26125.78\n",
      "Intercepto: -6.281122980723552\n",
      "Coeficientes: [ 10.59316989  93.90358576 117.18612312  82.26842769]\n",
      "\n",
      "Interpretación:\n",
      "hour: Cada unidad adicional en esta variable se asocia con un cambio promedio de 10.59 en el total de rentas, manteniendo las demás constantes.\n",
      "season_2: Cada unidad adicional en esta variable se asocia con un cambio promedio de 93.90 en el total de rentas, manteniendo las demás constantes.\n",
      "season_3: Cada unidad adicional en esta variable se asocia con un cambio promedio de 117.19 en el total de rentas, manteniendo las demás constantes.\n",
      "season_4: Cada unidad adicional en esta variable se asocia con un cambio promedio de 82.27 en el total de rentas, manteniendo las demás constantes.\n"
     ]
    }
   ],
   "source": [
    "# Celda 3\n",
    "\n",
    "# Aplicar las dummies en cada conjunto por separado\n",
    "X_train_rl = pd.get_dummies(X_train, columns=['season'], drop_first=True)\n",
    "X_test_rl = pd.get_dummies(X_test, columns=['season'], drop_first=True)\n",
    "\n",
    "# Asegurar que ambas matrices tengan las mismas columnas (por si faltan categorías en X_test)\n",
    "X_train_rl, X_test_rl = X_train_rl.align(X_test_rl, join='left', axis=1, fill_value=0)\n",
    "\n",
    "# Ajustar el modelo de regresión lineal\n",
    "model = LinearRegression()\n",
    "model.fit(X_train_rl, y_train)\n",
    "\n",
    "# Predicciones en el conjunto de prueba\n",
    "y_pred_rl = model.predict(X_test_rl)\n",
    "\n",
    "# Calcular e imprimir la métrica MSE\n",
    "mse_rl = mean_squared_error(y_test, y_pred_rl)\n",
    "print(f\"MSE en el conjunto de prueba: {mse_rl:.2f}\")\n",
    "\n",
    "# Imprimir coeficientes\n",
    "print(\"Intercepto:\", model.intercept_)\n",
    "print(\"Coeficientes:\", model.coef_)\n",
    "\n",
    "# Interpretación de coeficientes\n",
    "coef_dict = dict(zip(X_train_rl.columns, model.coef_))\n",
    "print(\"\\nInterpretación:\")\n",
    "for var, coef in coef_dict.items():\n",
    "    print(f\"{var}: Cada unidad adicional en esta variable se asocia con un cambio promedio de {coef:.2f} en el total de rentas, manteniendo las demás constantes.\")"
   ]
  },
  {
   "cell_type": "markdown",
   "metadata": {},
   "source": [
    "Limitaciones de la regresión lineal:\n",
    "\n",
    "*    Supone que la relación entre las variables predictoras, en este caso season y hour son lineales respecto a la variable de respuesta total. Esta relación no es estrictamente lineal ya que como se evidencio en las gráficas existen horas con un comportamiento particular (picos de uso del servicio).\n",
    "*    No se capturan patrones cíclicos en cuanto a la variable hora ya que asume que entre la hora 23 y 1 son 2 horas pero el modelo asume 22 horas de diferencia numéricamente.\n",
    "*    No captura relaciones complejas que hacen que las horas pica puedan variar según la estación, aunque para el invierno y verano parecen ser similares habría que revisar las otras 2 estaciones."
   ]
  },
  {
   "cell_type": "markdown",
   "metadata": {},
   "source": [
    "### Punto 4 - Árbol de decisión manual\n",
    "En la celda 4 cree un árbol de decisiones para pronosticar la variable \"total\" iterando **manualmente** sobre las variables \"hour\" y  \"season\". El árbol debe tener al menos 6 nodos finales."
   ]
  },
  {
   "cell_type": "code",
   "execution_count": 31,
   "metadata": {
    "scrolled": true
   },
   "outputs": [
    {
     "data": {
      "text/plain": [
       "({'y_pred': 1,\n",
       "  'y_prob': np.float64(191.53903379867745),\n",
       "  'level': 0,\n",
       "  'split': [0, np.float64(8.0)],\n",
       "  'n_samples': 10886,\n",
       "  'gain': np.float64(18268.811823533004),\n",
       "  'sl': {'y_pred': 1,\n",
       "   'y_prob': np.float64(55.40711902113459),\n",
       "   'level': 1,\n",
       "   'split': [0, np.float64(7.0)],\n",
       "   'n_samples': 3594,\n",
       "   'gain': np.float64(7207.700659959655),\n",
       "   'sl': {'y_pred': 1,\n",
       "    'y_prob': np.float64(32.561604584527224),\n",
       "    'level': 2,\n",
       "    'split': [0, np.float64(6.0)],\n",
       "    'n_samples': 3139,\n",
       "    'gain': np.float64(646.8008927589567),\n",
       "    'sl': {'y_pred': 1,\n",
       "     'y_prob': np.float64(25.15934475055845),\n",
       "     'level': 3,\n",
       "     'split': -1,\n",
       "     'n_samples': 2684,\n",
       "     'gain': np.float64(382.8088308604629)},\n",
       "    'sr': {'y_pred': 1,\n",
       "     'y_prob': np.float64(75.92778993435448),\n",
       "     'level': 3,\n",
       "     'split': -1,\n",
       "     'n_samples': 455,\n",
       "     'gain': np.float64(743.095592335012)}},\n",
       "   'sr': {'y_pred': 1,\n",
       "    'y_prob': np.float64(212.18599562363238),\n",
       "    'level': 2,\n",
       "    'split': [1, np.float64(2.0)],\n",
       "    'n_samples': 455,\n",
       "    'gain': np.float64(5197.1071057533845),\n",
       "    'sl': {'y_pred': 1,\n",
       "     'y_prob': np.float64(122.27826086956522),\n",
       "     'level': 3,\n",
       "     'split': -1,\n",
       "     'n_samples': 113,\n",
       "     'gain': 0},\n",
       "    'sr': {'y_pred': 1,\n",
       "     'y_prob': np.float64(241.01162790697674),\n",
       "     'level': 3,\n",
       "     'split': -1,\n",
       "     'n_samples': 342,\n",
       "     'gain': np.float64(131.37717588317173)}}},\n",
       "  'sr': {'y_pred': 1,\n",
       "   'y_prob': np.float64(258.6007677543186),\n",
       "   'level': 1,\n",
       "   'split': [0, np.float64(21.0)],\n",
       "   'n_samples': 7292,\n",
       "   'gain': np.float64(7392.920792160614),\n",
       "   'sl': {'y_pred': 1,\n",
       "    'y_prob': np.float64(287.7910901113736),\n",
       "    'level': 2,\n",
       "    'split': [1, np.float64(2.0)],\n",
       "    'n_samples': 5924,\n",
       "    'gain': np.float64(8304.11949599313),\n",
       "    'sl': {'y_pred': 1,\n",
       "     'y_prob': np.float64(175.89256756756757),\n",
       "     'level': 3,\n",
       "     'split': -1,\n",
       "     'n_samples': 1478,\n",
       "     'gain': np.float64(1134.7125713419155)},\n",
       "    'sr': {'y_pred': 1,\n",
       "     'y_prob': np.float64(324.8943345323741),\n",
       "     'level': 3,\n",
       "     'split': -1,\n",
       "     'n_samples': 4446,\n",
       "     'gain': np.float64(7126.654106105911)}},\n",
       "   'sr': {'y_pred': 1,\n",
       "    'y_prob': np.float64(131.95985401459853),\n",
       "    'level': 2,\n",
       "    'split': [1, np.float64(2.0)],\n",
       "    'n_samples': 1368,\n",
       "    'gain': np.float64(2478.289069001301),\n",
       "    'sl': {'y_pred': 1,\n",
       "     'y_prob': np.float64(70.7703488372093),\n",
       "     'level': 3,\n",
       "     'split': -1,\n",
       "     'n_samples': 342,\n",
       "     'gain': np.float64(668.1166854758721)},\n",
       "    'sr': {'y_pred': 1,\n",
       "     'y_prob': np.float64(152.17996108949416),\n",
       "     'level': 3,\n",
       "     'split': -1,\n",
       "     'n_samples': 1026,\n",
       "     'gain': np.float64(2327.263104696969)}}}},\n",
       " array([1., 1., 1., ..., 1., 1., 1.]))"
      ]
     },
     "execution_count": 31,
     "metadata": {},
     "output_type": "execute_result"
    }
   ],
   "source": [
    "# Celda 4\n",
    "### Definición de funciones\n",
    "\n",
    "# Selección de variables relevantes\n",
    "X_arbol_manual = bikes[['hour', 'season']]\n",
    "y_arbol_manual = bikes['total']\n",
    "\n",
    "# Definición de parámetros y criterios de parada\n",
    "max_depth_am = 3\n",
    "num_pct_am = 10\n",
    "max_features_am = None\n",
    "min_gain_am =0.001\n",
    "\n",
    "# Definición de la función que calcula el gini index\n",
    "def gini(y):\n",
    "    if y.shape[0] == 0:\n",
    "        return 0\n",
    "    else:\n",
    "        return 1 - (y.mean()**2 + (1 - y.mean())**2)\n",
    "        \n",
    "# Definición de la función gini_imputiry para calular la ganancia de una variable predictora j dado el punto de corte k\n",
    "def gini_impurity(X_col, y, split):\n",
    "    filter_l = X_col < split\n",
    "    y_l = y.loc[filter_l]\n",
    "    y_r = y.loc[~filter_l]\n",
    "\n",
    "    n_l = y_l.shape[0]\n",
    "    n_r = y_r.shape[0]\n",
    "\n",
    "    gini_y = gini(y)\n",
    "    gini_l = gini(y_l)\n",
    "    gini_r = gini(y_r)\n",
    "\n",
    "    gini_impurity_ = gini_y - (n_l / (n_l + n_r) * gini_l + n_r / (n_l + n_r) * gini_r)\n",
    "\n",
    "    return gini_impurity_\n",
    "\n",
    "# Definición de la función best_split para calcular cuál es la mejor variable y punto de cortepara hacer la bifurcación del árbol\n",
    "def best_split(X, y, num_pct=10):\n",
    "    features = range(X.shape[1])\n",
    "    best_split = [0, 0, 0]  # j, split, gain\n",
    "\n",
    "    for j in features:\n",
    "        splits = np.percentile(X.iloc[:, j], np.arange(0, 100, 100.0 / (num_pct + 1)).tolist())\n",
    "        splits = np.unique(splits)[1:]\n",
    "\n",
    "        for split in splits:\n",
    "            gain = gini_impurity(X.iloc[:, j], y, split)\n",
    "            if gain > best_split[2]:\n",
    "                best_split = [j, split, gain]\n",
    "\n",
    "    return best_split\n",
    "\n",
    "# Definición de la función tree_grow para hacer un crecimiento recursivo del árbol\n",
    "def tree_grow(X, y, level=0, min_gain=0.001, max_depth=None, num_pct=10):\n",
    "    if X.shape[0] == 1:\n",
    "        tree = dict(y_pred=y.iloc[:1].values[0], y_prob=0.5, level=level, split=-1, n_samples=1, gain=0)\n",
    "        return tree\n",
    "\n",
    "    j, split, gain = best_split(X, y, num_pct)\n",
    "    y_pred = int(y.mean() >= 0.5) \n",
    "    y_prob = (y.sum() + 1.0) / (y.shape[0] + 2.0) \n",
    "\n",
    "    tree = dict(y_pred=y_pred, y_prob=y_prob, level=level, split=-1, n_samples=X.shape[0], gain=gain)\n",
    "\n",
    "    if gain < min_gain:\n",
    "        return tree\n",
    "    if max_depth is not None and level >= max_depth:\n",
    "        return tree\n",
    "\n",
    "    filter_l = X.iloc[:, j] < split\n",
    "    X_l, y_l = X.loc[filter_l], y.loc[filter_l]\n",
    "    X_r, y_r = X.loc[~filter_l], y.loc[~filter_l]\n",
    "    tree['split'] = [j, split]\n",
    "\n",
    "    tree['sl'] = tree_grow(X_l, y_l, level + 1, min_gain=min_gain, max_depth=max_depth, num_pct=num_pct)\n",
    "    tree['sr'] = tree_grow(X_r, y_r, level + 1, min_gain=min_gain, max_depth=max_depth, num_pct=num_pct)\n",
    "\n",
    "    return tree\n",
    "    \n",
    "# Definición de la función tree_predict para hacer predicciones según las variables 'X' y el árbol 'tree'\n",
    "def tree_predict(X, tree, proba=False):\n",
    "    predicted = np.ones(X.shape[0])\n",
    "\n",
    "    if tree['split'] == -1:\n",
    "        if not proba:\n",
    "            predicted = predicted * tree['y_pred']\n",
    "        else:\n",
    "            predicted = predicted * tree['y_prob']\n",
    "    else:\n",
    "        j, split = tree['split']\n",
    "        filter_l = (X.iloc[:, j] < split)\n",
    "        X_l = X.loc[filter_l]\n",
    "        X_r = X.loc[~filter_l]\n",
    "\n",
    "        if X_l.shape[0] == 0:\n",
    "            predicted[~filter_l] = tree_predict(X_r, tree['sr'], proba)\n",
    "        elif X_r.shape[0] == 0:\n",
    "            predicted[filter_l] = tree_predict(X_l, tree['sl'], proba)\n",
    "        else:\n",
    "            predicted[filter_l] = tree_predict(X_l, tree['sl'], proba)\n",
    "            predicted[~filter_l] = tree_predict(X_r, tree['sr'], proba)\n",
    "\n",
    "    return predicted\n",
    "\n",
    "# Creación del árbol\n",
    "arbol_manual = tree_grow(X_arbol_manual, y_arbol_manual, level=0, min_gain=0.001, max_depth=3, num_pct=10)\n",
    "\n",
    "# Predicción con el árbol creado\n",
    "predicciones = tree_predict(X_arbol_manual, arbol_manual)\n",
    "\n",
    "# Mostrar el resultado del árbol y las predicciones\n",
    "arbol_manual, predicciones"
   ]
  },
  {
   "cell_type": "markdown",
   "metadata": {},
   "source": [
    "### Punto 5 - Árbol de decisión con librería\n",
    "En la celda 5 entrene un árbol de decisiones con la **librería sklearn**, usando las variables predictoras \"season\" y \"hour\" y calibre los parámetros que considere conveniente para obtener un mejor desempeño. Recuerde dividir los datos en conjuntos de entrenamiento y validación para esto. Comente el desempeño del modelo con alguna métrica de desempeño de modelos de regresión y compare desempeño con el modelo del punto 3."
   ]
  },
  {
   "cell_type": "code",
   "execution_count": 57,
   "metadata": {},
   "outputs": [
    {
     "data": {
      "image/png": "[encoded data removed]",
      "text/plain": [
       "<Figure size 640x480 with 1 Axes>"
      ]
     },
     "metadata": {},
     "output_type": "display_data"
    },
    {
     "name": "stdout",
     "output_type": "stream",
     "text": [
      "Mejor profundidad del árbol: 8\n",
      "MSE del modelo: 13220.511060094708\n",
      "  feature  importance\n",
      "1    hour    0.865284\n",
      "0  season    0.134716\n"
     ]
    }
   ],
   "source": [
    "# Celda 5\n",
    "# Lista para almacenar los MSE de cada profundidad\n",
    "mse_scores = []\n",
    "\n",
    "# Lista de valores para calibrar la profundidad máxima del árbol\n",
    "max_depth_range = range(1, 21)\n",
    "\n",
    "# Búsqueda de la mejor profundidad usando validación cruzada\n",
    "for depth in max_depth_range:\n",
    "    reg = DecisionTreeRegressor(max_depth=depth, random_state=1)\n",
    "    mse = -cross_val_score(reg, X_train, y_train, cv=10, scoring='neg_mean_squared_error').mean()\n",
    "    mse_scores.append(mse)\n",
    "\n",
    "# Gráfico de MSE vs max_depth\n",
    "plt.plot(max_depth_range, mse_scores)\n",
    "plt.xlabel('max_depth')\n",
    "plt.ylabel('MSE')\n",
    "plt.title('Evaluación de la mejor profundidad del árbol')\n",
    "plt.show()\n",
    "\n",
    "# Selección de la mejor profundidad\n",
    "mejor_profundidad = max_depth_range[np.argmin(mse_scores)]\n",
    "print(f\"Mejor profundidad del árbol: {mejor_profundidad}\")\n",
    "\n",
    "# Entrenamiento del modelo con la mejor profundidad\n",
    "reg = DecisionTreeRegressor(max_depth=mejor_profundidad, random_state=1)\n",
    "reg.fit(X_train, y_train)\n",
    "\n",
    "# Predicción y cálculo del MSE\n",
    "y_pred = reg.predict(X_test)\n",
    "mse_arbol_libreria = mean_squared_error(y_test, y_pred)\n",
    "print(f\"MSE del modelo: {mse_arbol_libreria}\")\n",
    "\n",
    "# Importancia de las características\n",
    "importances = pd.DataFrame({'feature': x_arbol_aut.columns, 'importance': reg.feature_importances_})\n",
    "print(importances.sort_values('importance', ascending=False))\n"
   ]
  },
  {
   "cell_type": "code",
   "execution_count": 61,
   "metadata": {},
   "outputs": [
    {
     "data": {
      "image/png": "[encoded data removed]",
      "text/plain": [
       "<Figure size 800x500 with 1 Axes>"
      ]
     },
     "metadata": {},
     "output_type": "display_data"
    }
   ],
   "source": [
    "# MSE de cada modelo\n",
    "mse_values = [mse_rl, mse_arbol_libreria]\n",
    "modelos = ['Regresión Lineal', 'Árbol de Decisión']\n",
    "\n",
    "# Crear el gráfico de barras\n",
    "plt.figure(figsize=(8, 5))\n",
    "plt.bar(modelos, mse_values, color=['blue', 'green'])\n",
    "\n",
    "# Añadir etiquetas y título\n",
    "plt.ylabel('MSE (Error Cuadrático Medio)')\n",
    "plt.title('Comparación de MSE: Regresión Lineal vs Árbol de Decisión')\n",
    "plt.ylim(0, max(mse_values) * 1.1)  # Ajustar el límite superior para mejor visualización\n",
    "\n",
    "# Mostrar el valor de cada barra\n",
    "for i, v in enumerate(mse_values):\n",
    "    plt.text(i, v + 1000, f'{v:.2f}', ha='center')\n",
    "\n",
    "plt.show()"
   ]
  },
  {
   "cell_type": "markdown",
   "metadata": {},
   "source": [
    "De acuerdo con el ejercicio planteado se obtiene una mejor métrica al usar el modelo de árbol de decisión lo que indica mayor precisión en sus predicciones al tener menor MSE."
   ]
  },
  {
   "cell_type": "markdown",
   "metadata": {},
   "source": [
    "## Parte B - Métodos de ensamblajes\n",
    "En esta parte del taller se usará el conjunto de datos de Popularidad de Noticias Online. El objetivo es predecir si la notica es popular o no, la popularidad está dada por la cantidad de reacciones en redes sociales. Para más detalles puede visitar el siguiente enlace: [datos](https://archive.ics.uci.edu/ml/datasets/online+news+popularity)."
   ]
  },
  {
   "cell_type": "markdown",
   "metadata": {},
   "source": [
    "### Datos popularidad de noticias"
   ]
  },
  {
   "cell_type": "code",
   "execution_count": 62,
   "metadata": {},
   "outputs": [
    {
     "data": {
      "text/html": [
       "<div>\n",
       "<style scoped>\n",
       "    .dataframe tbody tr th:only-of-type {\n",
       "        vertical-align: middle;\n",
       "    }\n",
       "\n",
       "    .dataframe tbody tr th {\n",
       "        vertical-align: top;\n",
       "    }\n",
       "\n",
       "    .dataframe thead th {\n",
       "        text-align: right;\n",
       "    }\n",
       "</style>\n",
       "<table border=\"1\" class=\"dataframe\">\n",
       "  <thead>\n",
       "    <tr style=\"text-align: right;\">\n",
       "      <th></th>\n",
       "      <th>url</th>\n",
       "      <th>timedelta</th>\n",
       "      <th>n_tokens_title</th>\n",
       "      <th>n_tokens_content</th>\n",
       "      <th>n_unique_tokens</th>\n",
       "      <th>n_non_stop_words</th>\n",
       "      <th>n_non_stop_unique_tokens</th>\n",
       "      <th>num_hrefs</th>\n",
       "      <th>num_self_hrefs</th>\n",
       "      <th>num_imgs</th>\n",
       "      <th>...</th>\n",
       "      <th>min_positive_polarity</th>\n",
       "      <th>max_positive_polarity</th>\n",
       "      <th>avg_negative_polarity</th>\n",
       "      <th>min_negative_polarity</th>\n",
       "      <th>max_negative_polarity</th>\n",
       "      <th>title_subjectivity</th>\n",
       "      <th>title_sentiment_polarity</th>\n",
       "      <th>abs_title_subjectivity</th>\n",
       "      <th>abs_title_sentiment_polarity</th>\n",
       "      <th>Popular</th>\n",
       "    </tr>\n",
       "  </thead>\n",
       "  <tbody>\n",
       "    <tr>\n",
       "      <th>0</th>\n",
       "      <td>http://mashable.com/2014/12/10/cia-torture-rep...</td>\n",
       "      <td>28.0</td>\n",
       "      <td>9.0</td>\n",
       "      <td>188.0</td>\n",
       "      <td>0.732620</td>\n",
       "      <td>1.0</td>\n",
       "      <td>0.844262</td>\n",
       "      <td>5.0</td>\n",
       "      <td>1.0</td>\n",
       "      <td>1.0</td>\n",
       "      <td>...</td>\n",
       "      <td>0.200000</td>\n",
       "      <td>0.80</td>\n",
       "      <td>-0.487500</td>\n",
       "      <td>-0.60</td>\n",
       "      <td>-0.250000</td>\n",
       "      <td>0.9</td>\n",
       "      <td>0.8</td>\n",
       "      <td>0.4</td>\n",
       "      <td>0.8</td>\n",
       "      <td>1</td>\n",
       "    </tr>\n",
       "    <tr>\n",
       "      <th>1</th>\n",
       "      <td>http://mashable.com/2013/10/18/bitlock-kicksta...</td>\n",
       "      <td>447.0</td>\n",
       "      <td>7.0</td>\n",
       "      <td>297.0</td>\n",
       "      <td>0.653199</td>\n",
       "      <td>1.0</td>\n",
       "      <td>0.815789</td>\n",
       "      <td>9.0</td>\n",
       "      <td>4.0</td>\n",
       "      <td>1.0</td>\n",
       "      <td>...</td>\n",
       "      <td>0.160000</td>\n",
       "      <td>0.50</td>\n",
       "      <td>-0.135340</td>\n",
       "      <td>-0.40</td>\n",
       "      <td>-0.050000</td>\n",
       "      <td>0.1</td>\n",
       "      <td>-0.1</td>\n",
       "      <td>0.4</td>\n",
       "      <td>0.1</td>\n",
       "      <td>0</td>\n",
       "    </tr>\n",
       "    <tr>\n",
       "      <th>2</th>\n",
       "      <td>http://mashable.com/2013/07/24/google-glass-po...</td>\n",
       "      <td>533.0</td>\n",
       "      <td>11.0</td>\n",
       "      <td>181.0</td>\n",
       "      <td>0.660377</td>\n",
       "      <td>1.0</td>\n",
       "      <td>0.775701</td>\n",
       "      <td>4.0</td>\n",
       "      <td>3.0</td>\n",
       "      <td>1.0</td>\n",
       "      <td>...</td>\n",
       "      <td>0.136364</td>\n",
       "      <td>1.00</td>\n",
       "      <td>0.000000</td>\n",
       "      <td>0.00</td>\n",
       "      <td>0.000000</td>\n",
       "      <td>0.3</td>\n",
       "      <td>1.0</td>\n",
       "      <td>0.2</td>\n",
       "      <td>1.0</td>\n",
       "      <td>0</td>\n",
       "    </tr>\n",
       "    <tr>\n",
       "      <th>3</th>\n",
       "      <td>http://mashable.com/2013/11/21/these-are-the-m...</td>\n",
       "      <td>413.0</td>\n",
       "      <td>12.0</td>\n",
       "      <td>781.0</td>\n",
       "      <td>0.497409</td>\n",
       "      <td>1.0</td>\n",
       "      <td>0.677350</td>\n",
       "      <td>10.0</td>\n",
       "      <td>3.0</td>\n",
       "      <td>1.0</td>\n",
       "      <td>...</td>\n",
       "      <td>0.100000</td>\n",
       "      <td>1.00</td>\n",
       "      <td>-0.195701</td>\n",
       "      <td>-0.40</td>\n",
       "      <td>-0.071429</td>\n",
       "      <td>0.0</td>\n",
       "      <td>0.0</td>\n",
       "      <td>0.5</td>\n",
       "      <td>0.0</td>\n",
       "      <td>0</td>\n",
       "    </tr>\n",
       "    <tr>\n",
       "      <th>4</th>\n",
       "      <td>http://mashable.com/2014/02/11/parking-ticket-...</td>\n",
       "      <td>331.0</td>\n",
       "      <td>8.0</td>\n",
       "      <td>177.0</td>\n",
       "      <td>0.685714</td>\n",
       "      <td>1.0</td>\n",
       "      <td>0.830357</td>\n",
       "      <td>3.0</td>\n",
       "      <td>2.0</td>\n",
       "      <td>1.0</td>\n",
       "      <td>...</td>\n",
       "      <td>0.100000</td>\n",
       "      <td>0.55</td>\n",
       "      <td>-0.175000</td>\n",
       "      <td>-0.25</td>\n",
       "      <td>-0.100000</td>\n",
       "      <td>0.0</td>\n",
       "      <td>0.0</td>\n",
       "      <td>0.5</td>\n",
       "      <td>0.0</td>\n",
       "      <td>0</td>\n",
       "    </tr>\n",
       "  </tbody>\n",
       "</table>\n",
       "<p>5 rows × 61 columns</p>\n",
       "</div>"
      ],
      "text/plain": [
       "                                                 url  timedelta  \\\n",
       "0  http://mashable.com/2014/12/10/cia-torture-rep...       28.0   \n",
       "1  http://mashable.com/2013/10/18/bitlock-kicksta...      447.0   \n",
       "2  http://mashable.com/2013/07/24/google-glass-po...      533.0   \n",
       "3  http://mashable.com/2013/11/21/these-are-the-m...      413.0   \n",
       "4  http://mashable.com/2014/02/11/parking-ticket-...      331.0   \n",
       "\n",
       "   n_tokens_title  n_tokens_content  n_unique_tokens  n_non_stop_words  \\\n",
       "0             9.0             188.0         0.732620               1.0   \n",
       "1             7.0             297.0         0.653199               1.0   \n",
       "2            11.0             181.0         0.660377               1.0   \n",
       "3            12.0             781.0         0.497409               1.0   \n",
       "4             8.0             177.0         0.685714               1.0   \n",
       "\n",
       "   n_non_stop_unique_tokens  num_hrefs  num_self_hrefs  num_imgs  ...  \\\n",
       "0                  0.844262        5.0             1.0       1.0  ...   \n",
       "1                  0.815789        9.0             4.0       1.0  ...   \n",
       "2                  0.775701        4.0             3.0       1.0  ...   \n",
       "3                  0.677350       10.0             3.0       1.0  ...   \n",
       "4                  0.830357        3.0             2.0       1.0  ...   \n",
       "\n",
       "   min_positive_polarity  max_positive_polarity  avg_negative_polarity  \\\n",
       "0               0.200000                   0.80              -0.487500   \n",
       "1               0.160000                   0.50              -0.135340   \n",
       "2               0.136364                   1.00               0.000000   \n",
       "3               0.100000                   1.00              -0.195701   \n",
       "4               0.100000                   0.55              -0.175000   \n",
       "\n",
       "   min_negative_polarity  max_negative_polarity  title_subjectivity  \\\n",
       "0                  -0.60              -0.250000                 0.9   \n",
       "1                  -0.40              -0.050000                 0.1   \n",
       "2                   0.00               0.000000                 0.3   \n",
       "3                  -0.40              -0.071429                 0.0   \n",
       "4                  -0.25              -0.100000                 0.0   \n",
       "\n",
       "   title_sentiment_polarity  abs_title_subjectivity  \\\n",
       "0                       0.8                     0.4   \n",
       "1                      -0.1                     0.4   \n",
       "2                       1.0                     0.2   \n",
       "3                       0.0                     0.5   \n",
       "4                       0.0                     0.5   \n",
       "\n",
       "   abs_title_sentiment_polarity  Popular  \n",
       "0                           0.8        1  \n",
       "1                           0.1        0  \n",
       "2                           1.0        0  \n",
       "3                           0.0        0  \n",
       "4                           0.0        0  \n",
       "\n",
       "[5 rows x 61 columns]"
      ]
     },
     "execution_count": 62,
     "metadata": {},
     "output_type": "execute_result"
    }
   ],
   "source": [
    "# Lectura de la información de archivo .csv\n",
    "df = pd.read_csv('https://raw.githubusercontent.com/davidzarruk/MIAD_ML_NLP_2023/main/datasets/mashable.csv', index_col=0)\n",
    "df.head()"
   ]
  },
  {
   "cell_type": "code",
   "execution_count": 65,
   "metadata": {},
   "outputs": [
    {
     "data": {
      "text/plain": [
       "np.float64(0.5)"
      ]
     },
     "execution_count": 65,
     "metadata": {},
     "output_type": "execute_result"
    }
   ],
   "source": [
    "# Definición variable de interes y variables predictoras\n",
    "X_pb = df.drop(['url', 'Popular'], axis=1)\n",
    "y_pb = df['Popular']\n",
    "y_pb.mean()"
   ]
  },
  {
   "cell_type": "code",
   "execution_count": 66,
   "metadata": {},
   "outputs": [],
   "source": [
    "# División de la muestra en set de entrenamiento y prueba\n",
    "from sklearn.model_selection import train_test_split\n",
    "X_train_pb, X_test_pb, y_train_pb, y_test_pb = train_test_split(X_pb, y_pb, random_state=1)"
   ]
  },
  {
   "cell_type": "markdown",
   "metadata": {},
   "source": [
    "### Punto 6 - Árbol de decisión y regresión logística\n",
    "En la celda 6 construya un árbol de decisión y una regresión logística. Para el árbol calibre al menos un parámetro y evalúe el desempeño de cada modelo usando las métricas de Accuracy y F1-Score."
   ]
  },
  {
   "cell_type": "code",
   "execution_count": 79,
   "metadata": {},
   "outputs": [
    {
     "data": {
      "image/png": "[encoded data removed]",
      "text/plain": [
       "<Figure size 640x480 with 1 Axes>"
      ]
     },
     "metadata": {},
     "output_type": "display_data"
    },
    {
     "name": "stdout",
     "output_type": "stream",
     "text": [
      "(np.float64(0.6308888888888888), 2)\n",
      "Árbol de decisión - Accuracy: 0.6373, F1-Score: 0.6617\n",
      "Regresión logística - Accuracy: 0.6147, F1-Score: 0.6030\n"
     ]
    }
   ],
   "source": [
    "# Celda 6\n",
    "\n",
    "#### ÁRBOL DE DECISIÓN ####\n",
    "\n",
    "# Lista de valores para calibrar el criterio de parada de máxima profundidad (max_depth)\n",
    "max_depth_range_pb = range(1, 50)\n",
    "\n",
    "# Lista para guardar los valores del RMSE para cada valor de máxima profundidad (max_depth)\n",
    "accuracy_scores_pb = []\n",
    "\n",
    "# Loop para obtener el desempeño del modelo de acuerdo con la máxima profundidad\n",
    "for depth in max_depth_range_pb:\n",
    "    # Definición del árbol de decisión usando DecisionTreeClassifier de la libreria sklearn\n",
    "    clf_pb = DecisionTreeClassifier(max_depth=depth, random_state=1)\n",
    "    accuracy_scores_pb.append(cross_val_score(clf_pb, X_train_pb, y_train_pb, cv=10, scoring='accuracy').mean())\n",
    "\n",
    "\n",
    "# Gráfica max_depth versus RMSE (error del modelo)\n",
    "plt.plot(max_depth_range_pb, accuracy_scores_pb)\n",
    "plt.xlabel('max_depth')\n",
    "plt.ylabel('Accuracy')\n",
    "plt.show()\n",
    "\n",
    "# Mejor accuracy (desempeño del modelo) y su correspondiente max_depth\n",
    "print(sorted(zip(accuracy_scores_pb, max_depth_range_pb))[::-1][0])\n",
    "\n",
    "# max_depth=2 fue el mejor, se ajusta un árbol usando este valor \n",
    "clf_pb = DecisionTreeClassifier(max_depth=2, random_state=1)\n",
    "clf_pb.fit(X_train_pb, y_train_pb)\n",
    "\n",
    "clf_pb_pred = clf_pb.predict(X_test_pb)\n",
    "\n",
    "clf_pb_accuracy = accuracy_score(y_test_pb, dt_pred)\n",
    "clf_pb_f1 = f1_score(y_test_pb, dt_pred)\n",
    "\n",
    "print(f\"Árbol de decisión - Accuracy: {clf_pb_accuracy:.4f}, F1-Score: {clf_pb_f1:.4f}\")\n",
    "\n",
    "#### REGRESIÓN LOGÍSTICA ####\n",
    "\n",
    "lr_pb_model = LogisticRegression(max_iter=1000, random_state=1)\n",
    "lr_pb_model.fit(X_train_pb, y_train_pb)\n",
    "\n",
    "lr_pb_pred = lr_pb_model.predict(X_test_pb)\n",
    "\n",
    "lr_pb_accuracy = accuracy_score(y_test_pb, lr_pred)\n",
    "lr_pb_f1 = f1_score(y_test_pb, lr_pred)\n",
    "\n",
    "print(f\"Regresión logística - Accuracy: {lr_pb_accuracy:.4f}, F1-Score: {lr_pb_f1:.4f}\")\n"
   ]
  },
  {
   "cell_type": "markdown",
   "metadata": {},
   "source": [
    "### Punto 7 - Votación Mayoritaria\n",
    "En la celda 7 elabore un esamble con la metodología de **Votación mayoritaria** compuesto por 300 muestras bagged donde:\n",
    "\n",
    "-las primeras 100 muestras vienen de árboles de decisión donde max_depth tome un valor de su elección\\\n",
    "-las segundas 100 muestras vienen de árboles de decisión donde min_samples_leaf tome un valor de su elección\\\n",
    "-las últimas 100 muestras vienen de regresiones logísticas\n",
    "\n",
    "Evalúe cada uno de los tres modelos de manera independiente utilizando las métricas de Accuracy y F1-Score, luego evalúe el ensamble de modelos y compare los resultados. \n",
    "\n",
    "Nota: \n",
    "\n",
    "Para este ensamble de 300 modelos, deben hacer votación mayoritaria. Esto lo pueden hacer de distintas maneras. La más \"fácil\" es haciendo la votación \"manualmente\", como se hace a partir del minuto 5:45 del video de Ejemplo práctico de emsablajes en Coursera. Digo que es la más fácil porque si hacen la votación mayoritaria sobre las 300 predicciones van a obtener lo que se espera.\n",
    "\n",
    "Otra opción es: para cada uno de los 3 tipos de modelos, entrenar un ensamble de 100 modelos cada uno. Predecir para cada uno de esos tres ensambles y luego predecir como un ensamble de los 3 ensambles. La cuestión es que la votación mayoritaria al usar los 3 ensambles no necesariamente va a generar el mismo resultado que si hacen la votación mayoritaria directamente sobre los 300 modelos. Entonces, para los que quieran hacer esto, deben hacer ese último cálculo con cuidado.\n",
    "\n",
    "Para los que quieran hacerlo como ensamble de ensambles, digo que se debe hacer el ensamble final con cuidado por lo siguiente. Supongamos que:\n",
    "\n",
    "* para los 100 árboles del primer tipo, la votación mayoritaria es: 55% de los modelos predicen que la clase de una observación es \"1\"\n",
    "* para los 100 árboles del segundo tipo, la votación mayoritaria es: 55% de los modelos predicen que la clase de una observación es \"1\"\n",
    "* para las 100 regresiones logísticas, la votación mayoritaria es: 10% de los modelos predicen que la clase de una observación es \"1\"\n",
    "\n",
    "Si se hace la votación mayoritaria de los 300 modelos, la predicción de esa observación debería ser: (100*55%+100*55%+100*10%)/300 = 40% de los modelos votan porque la predicción debería ser \"1\". Es decir, la predicción del ensamble es \"0\" (dado que menos del 50% de modelos predijo un 1).\n",
    "\n",
    "Sin embargo, si miramos cada ensamble por separado, el primer ensamble predice \"1\", el segundo ensamble predice \"1\" y el último ensamble predice \"0\". Si hago votación mayoritaria sobre esto, la predicción va a ser \"1\", lo cual es distinto a si se hace la votación mayoritaria sobre los 300 modelos."
   ]
  },
  {
   "cell_type": "code",
   "execution_count": null,
   "metadata": {},
   "outputs": [],
   "source": [
    "# Celda 7\n",
    "# Función para generar modelos y sus predicciones\n",
    "def generate_models(model_class, params, n_models, X_train, y_train, X_test):\n",
    "    predictions = []\n",
    "    for _ in range(n_models):\n",
    "        X_resampled, y_resampled = resample(X_train, y_train, random_state=_)  # Bootstrapping\n",
    "        model = model_class(**params, random_state=_)\n",
    "        model.fit(X_resampled, y_resampled)\n",
    "        predictions.append(model.predict(X_test))\n",
    "    return np.array(predictions)\n",
    "\n",
    "# Generación de predicciones para cada grupo de 100 modelos\n",
    "dt_pred_100_depth = generate_models(DecisionTreeClassifier, {'max_depth': 5}, 100, X_train_pb, y_train_pb, X_test_pb)\n",
    "dt_pred_100_leaf = generate_models(DecisionTreeClassifier, {'min_samples_leaf': 10}, 100, X_train_pb, y_train_pb, X_test_pb)\n",
    "log_reg_pred_100 = generate_models(LogisticRegression, {'max_iter': 1000}, 100, X_train_pb, y_train_pb, X_test_pb)\n",
    "\n",
    "# Votación mayoritaria para cada grupo\n",
    "def majority_vote(predictions):\n",
    "    return (np.mean(predictions, axis=0) > 0.5).astype(int)\n",
    "\n",
    "dt_final_pred_depth = majority_vote(dt_pred_100_depth)\n",
    "dt_final_pred_leaf = majority_vote(dt_pred_100_leaf)\n",
    "log_reg_final_pred = majority_vote(log_reg_pred_100)\n",
    "\n",
    "# Evaluación individual\n",
    "print(\"Desempeño de cada modelo independiente:\")\n",
    "print(f\"Árboles con max_depth - Accuracy: {accuracy_score(y_test_pb, dt_final_pred_depth):.4f}, F1-Score: {f1_score(y_test_pb, dt_final_pred_depth):.4f}\")\n",
    "print(f\"Árboles con min_samples_leaf - Accuracy: {accuracy_score(y_test_pb, dt_final_pred_leaf):.4f}, F1-Score: {f1_score(y_test_pb, dt_final_pred_leaf):.4f}\")\n",
    "print(f\"Regresión Logística - Accuracy: {accuracy_score(y_test_pb, log_reg_final_pred):.4f}, F1-Score: {f1_score(y_test_pb, log_reg_final_pred):.4f}\")\n",
    "\n",
    "# Votación mayoritaria global\n",
    "all_predictions = np.vstack([dt_pred_100_depth, dt_pred_100_leaf, log_reg_pred_100])\n",
    "ensemble_prediction = majority_vote(all_predictions)\n",
    "\n",
    "# Evaluación del ensamble completo\n",
    "print(\"\\nDesempeño del ensamble completo:\")\n",
    "print(f\"Ensamble - Accuracy: {accuracy_score(y_test_pb, ensemble_prediction):.4f}, F1-Score: {f1_score(y_test_pb, ensemble_prediction):.4f}\")\n"
   ]
  },
  {
   "cell_type": "markdown",
   "metadata": {},
   "source": [
    "### Punto 8 - Votación Ponderada\n",
    "En la celda 8 elabore un ensamble con la metodología de **Votación ponderada** compuesto por 300 muestras bagged para los mismos tres escenarios del punto 7. Evalúe los modelos utilizando las métricas de Accuracy y F1-Score"
   ]
  },
  {
   "cell_type": "code",
   "execution_count": null,
   "metadata": {},
   "outputs": [],
   "source": [
    "# Celda 8\n"
   ]
  },
  {
   "cell_type": "markdown",
   "metadata": {},
   "source": [
    "### Punto 9 - Comparación y análisis de resultados\n",
    "En la celda 9 comente sobre los resultados obtenidos con las metodologías usadas en los puntos 7 y 8, compare los resultados y enuncie posibles ventajas o desventajas de cada una de ellas."
   ]
  },
  {
   "cell_type": "code",
   "execution_count": null,
   "metadata": {},
   "outputs": [],
   "source": [
    "# Celda 9"
   ]
  }
 ],
 "metadata": {
  "kernelspec": {
   "display_name": "Python 3 (ipykernel)",
   "language": "python",
   "name": "python3"
  },
  "language_info": {
   "codemirror_mode": {
    "name": "ipython",
    "version": 3
   },
   "file_extension": ".py",
   "mimetype": "text/x-python",
   "name": "python",
   "nbconvert_exporter": "python",
   "pygments_lexer": "ipython3",
   "version": "3.10.13"
  }
 },
 "nbformat": 4,
 "nbformat_minor": 4
}
